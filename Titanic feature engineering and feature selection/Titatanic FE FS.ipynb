{
 "cells": [
  {
   "cell_type": "code",
   "execution_count": 2,
   "metadata": {},
   "outputs": [],
   "source": [
    "import pandas as pd\n",
    "import numpy as np\n",
    "import re\n",
    "import matplotlib.pyplot as plt\n",
    "import seaborn as sns\n"
   ]
  },
  {
   "cell_type": "markdown",
   "metadata": {},
   "source": [
    "# Reading Data"
   ]
  },
  {
   "cell_type": "code",
   "execution_count": 3,
   "metadata": {},
   "outputs": [],
   "source": [
    "df=pd.read_csv(\"full.csv\")"
   ]
  },
  {
   "cell_type": "code",
   "execution_count": 4,
   "metadata": {
    "scrolled": true
   },
   "outputs": [
    {
     "data": {
      "text/html": [
       "<div>\n",
       "<style scoped>\n",
       "    .dataframe tbody tr th:only-of-type {\n",
       "        vertical-align: middle;\n",
       "    }\n",
       "\n",
       "    .dataframe tbody tr th {\n",
       "        vertical-align: top;\n",
       "    }\n",
       "\n",
       "    .dataframe thead th {\n",
       "        text-align: right;\n",
       "    }\n",
       "</style>\n",
       "<table border=\"1\" class=\"dataframe\">\n",
       "  <thead>\n",
       "    <tr style=\"text-align: right;\">\n",
       "      <th></th>\n",
       "      <th>PassengerId</th>\n",
       "      <th>Survived</th>\n",
       "      <th>Pclass</th>\n",
       "      <th>Name</th>\n",
       "      <th>Sex</th>\n",
       "      <th>Age</th>\n",
       "      <th>SibSp</th>\n",
       "      <th>Parch</th>\n",
       "      <th>Ticket</th>\n",
       "      <th>Fare</th>\n",
       "      <th>...</th>\n",
       "      <th>Embarked</th>\n",
       "      <th>WikiId</th>\n",
       "      <th>Name_wiki</th>\n",
       "      <th>Age_wiki</th>\n",
       "      <th>Hometown</th>\n",
       "      <th>Boarded</th>\n",
       "      <th>Destination</th>\n",
       "      <th>Lifeboat</th>\n",
       "      <th>Body</th>\n",
       "      <th>Class</th>\n",
       "    </tr>\n",
       "  </thead>\n",
       "  <tbody>\n",
       "    <tr>\n",
       "      <th>0</th>\n",
       "      <td>1</td>\n",
       "      <td>0.0</td>\n",
       "      <td>3</td>\n",
       "      <td>Braund, Mr. Owen Harris</td>\n",
       "      <td>male</td>\n",
       "      <td>22.0</td>\n",
       "      <td>1</td>\n",
       "      <td>0</td>\n",
       "      <td>A/5 21171</td>\n",
       "      <td>7.2500</td>\n",
       "      <td>...</td>\n",
       "      <td>S</td>\n",
       "      <td>691.0</td>\n",
       "      <td>Braund, Mr. Owen Harris</td>\n",
       "      <td>22.0</td>\n",
       "      <td>Bridgerule, Devon, England</td>\n",
       "      <td>Southampton</td>\n",
       "      <td>Qu'Appelle Valley, Saskatchewan, Canada</td>\n",
       "      <td>NaN</td>\n",
       "      <td>NaN</td>\n",
       "      <td>3.0</td>\n",
       "    </tr>\n",
       "    <tr>\n",
       "      <th>1</th>\n",
       "      <td>2</td>\n",
       "      <td>1.0</td>\n",
       "      <td>1</td>\n",
       "      <td>Cumings, Mrs. John Bradley (Florence Briggs Th...</td>\n",
       "      <td>female</td>\n",
       "      <td>38.0</td>\n",
       "      <td>1</td>\n",
       "      <td>0</td>\n",
       "      <td>PC 17599</td>\n",
       "      <td>71.2833</td>\n",
       "      <td>...</td>\n",
       "      <td>C</td>\n",
       "      <td>90.0</td>\n",
       "      <td>Cumings, Mrs. Florence Briggs (née Thayer)</td>\n",
       "      <td>35.0</td>\n",
       "      <td>New York, New York, US</td>\n",
       "      <td>Cherbourg</td>\n",
       "      <td>New York, New York, US</td>\n",
       "      <td>4</td>\n",
       "      <td>NaN</td>\n",
       "      <td>1.0</td>\n",
       "    </tr>\n",
       "    <tr>\n",
       "      <th>2</th>\n",
       "      <td>3</td>\n",
       "      <td>1.0</td>\n",
       "      <td>3</td>\n",
       "      <td>Heikkinen, Miss. Laina</td>\n",
       "      <td>female</td>\n",
       "      <td>26.0</td>\n",
       "      <td>0</td>\n",
       "      <td>0</td>\n",
       "      <td>STON/O2. 3101282</td>\n",
       "      <td>7.9250</td>\n",
       "      <td>...</td>\n",
       "      <td>S</td>\n",
       "      <td>865.0</td>\n",
       "      <td>Heikkinen, Miss Laina</td>\n",
       "      <td>26.0</td>\n",
       "      <td>Jyväskylä, Finland</td>\n",
       "      <td>Southampton</td>\n",
       "      <td>New York City</td>\n",
       "      <td>14?</td>\n",
       "      <td>NaN</td>\n",
       "      <td>3.0</td>\n",
       "    </tr>\n",
       "    <tr>\n",
       "      <th>3</th>\n",
       "      <td>4</td>\n",
       "      <td>1.0</td>\n",
       "      <td>1</td>\n",
       "      <td>Futrelle, Mrs. Jacques Heath (Lily May Peel)</td>\n",
       "      <td>female</td>\n",
       "      <td>35.0</td>\n",
       "      <td>1</td>\n",
       "      <td>0</td>\n",
       "      <td>113803</td>\n",
       "      <td>53.1000</td>\n",
       "      <td>...</td>\n",
       "      <td>S</td>\n",
       "      <td>127.0</td>\n",
       "      <td>Futrelle, Mrs. Lily May (née Peel)</td>\n",
       "      <td>35.0</td>\n",
       "      <td>Scituate, Massachusetts, US</td>\n",
       "      <td>Southampton</td>\n",
       "      <td>Scituate, Massachusetts, US</td>\n",
       "      <td>D</td>\n",
       "      <td>NaN</td>\n",
       "      <td>1.0</td>\n",
       "    </tr>\n",
       "    <tr>\n",
       "      <th>4</th>\n",
       "      <td>5</td>\n",
       "      <td>0.0</td>\n",
       "      <td>3</td>\n",
       "      <td>Allen, Mr. William Henry</td>\n",
       "      <td>male</td>\n",
       "      <td>35.0</td>\n",
       "      <td>0</td>\n",
       "      <td>0</td>\n",
       "      <td>373450</td>\n",
       "      <td>8.0500</td>\n",
       "      <td>...</td>\n",
       "      <td>S</td>\n",
       "      <td>627.0</td>\n",
       "      <td>Allen, Mr. William Henry</td>\n",
       "      <td>35.0</td>\n",
       "      <td>Birmingham, West Midlands, England</td>\n",
       "      <td>Southampton</td>\n",
       "      <td>New York City</td>\n",
       "      <td>NaN</td>\n",
       "      <td>NaN</td>\n",
       "      <td>3.0</td>\n",
       "    </tr>\n",
       "  </tbody>\n",
       "</table>\n",
       "<p>5 rows × 21 columns</p>\n",
       "</div>"
      ],
      "text/plain": [
       "   PassengerId  Survived  Pclass  \\\n",
       "0            1       0.0       3   \n",
       "1            2       1.0       1   \n",
       "2            3       1.0       3   \n",
       "3            4       1.0       1   \n",
       "4            5       0.0       3   \n",
       "\n",
       "                                                Name     Sex   Age  SibSp  \\\n",
       "0                            Braund, Mr. Owen Harris    male  22.0      1   \n",
       "1  Cumings, Mrs. John Bradley (Florence Briggs Th...  female  38.0      1   \n",
       "2                             Heikkinen, Miss. Laina  female  26.0      0   \n",
       "3       Futrelle, Mrs. Jacques Heath (Lily May Peel)  female  35.0      1   \n",
       "4                           Allen, Mr. William Henry    male  35.0      0   \n",
       "\n",
       "   Parch            Ticket     Fare  ... Embarked WikiId  \\\n",
       "0      0         A/5 21171   7.2500  ...        S  691.0   \n",
       "1      0          PC 17599  71.2833  ...        C   90.0   \n",
       "2      0  STON/O2. 3101282   7.9250  ...        S  865.0   \n",
       "3      0            113803  53.1000  ...        S  127.0   \n",
       "4      0            373450   8.0500  ...        S  627.0   \n",
       "\n",
       "                                    Name_wiki Age_wiki  \\\n",
       "0                     Braund, Mr. Owen Harris     22.0   \n",
       "1  Cumings, Mrs. Florence Briggs (née Thayer)     35.0   \n",
       "2                       Heikkinen, Miss Laina     26.0   \n",
       "3          Futrelle, Mrs. Lily May (née Peel)     35.0   \n",
       "4                    Allen, Mr. William Henry     35.0   \n",
       "\n",
       "                             Hometown      Boarded  \\\n",
       "0          Bridgerule, Devon, England  Southampton   \n",
       "1              New York, New York, US    Cherbourg   \n",
       "2                  Jyväskylä, Finland  Southampton   \n",
       "3         Scituate, Massachusetts, US  Southampton   \n",
       "4  Birmingham, West Midlands, England  Southampton   \n",
       "\n",
       "                               Destination Lifeboat Body Class  \n",
       "0  Qu'Appelle Valley, Saskatchewan, Canada      NaN  NaN   3.0  \n",
       "1                   New York, New York, US        4  NaN   1.0  \n",
       "2                            New York City      14?  NaN   3.0  \n",
       "3              Scituate, Massachusetts, US        D  NaN   1.0  \n",
       "4                            New York City      NaN  NaN   3.0  \n",
       "\n",
       "[5 rows x 21 columns]"
      ]
     },
     "execution_count": 4,
     "metadata": {},
     "output_type": "execute_result"
    }
   ],
   "source": [
    "df.head()"
   ]
  },
  {
   "cell_type": "code",
   "execution_count": 10,
   "metadata": {},
   "outputs": [
    {
     "data": {
      "text/html": [
       "<div>\n",
       "<style scoped>\n",
       "    .dataframe tbody tr th:only-of-type {\n",
       "        vertical-align: middle;\n",
       "    }\n",
       "\n",
       "    .dataframe tbody tr th {\n",
       "        vertical-align: top;\n",
       "    }\n",
       "\n",
       "    .dataframe thead th {\n",
       "        text-align: right;\n",
       "    }\n",
       "</style>\n",
       "<table border=\"1\" class=\"dataframe\">\n",
       "  <thead>\n",
       "    <tr style=\"text-align: right;\">\n",
       "      <th></th>\n",
       "      <th>PassengerId</th>\n",
       "      <th>Survived</th>\n",
       "      <th>Pclass</th>\n",
       "      <th>Name</th>\n",
       "      <th>Sex</th>\n",
       "      <th>Age</th>\n",
       "      <th>SibSp</th>\n",
       "      <th>Parch</th>\n",
       "      <th>Ticket</th>\n",
       "      <th>Fare</th>\n",
       "      <th>...</th>\n",
       "      <th>Embarked</th>\n",
       "      <th>WikiId</th>\n",
       "      <th>Name_wiki</th>\n",
       "      <th>Age_wiki</th>\n",
       "      <th>Hometown</th>\n",
       "      <th>Boarded</th>\n",
       "      <th>Destination</th>\n",
       "      <th>Lifeboat</th>\n",
       "      <th>Body</th>\n",
       "      <th>Class</th>\n",
       "    </tr>\n",
       "  </thead>\n",
       "  <tbody>\n",
       "    <tr>\n",
       "      <th>1</th>\n",
       "      <td>2</td>\n",
       "      <td>1.0</td>\n",
       "      <td>1</td>\n",
       "      <td>Cumings, Mrs. John Bradley (Florence Briggs Th...</td>\n",
       "      <td>female</td>\n",
       "      <td>38.0</td>\n",
       "      <td>1</td>\n",
       "      <td>0</td>\n",
       "      <td>PC 17599</td>\n",
       "      <td>71.2833</td>\n",
       "      <td>...</td>\n",
       "      <td>C</td>\n",
       "      <td>90.0</td>\n",
       "      <td>Cumings, Mrs. Florence Briggs (née Thayer)</td>\n",
       "      <td>35.0</td>\n",
       "      <td>New York, New York, US</td>\n",
       "      <td>Cherbourg</td>\n",
       "      <td>New York, New York, US</td>\n",
       "      <td>4</td>\n",
       "      <td>NaN</td>\n",
       "      <td>1.0</td>\n",
       "    </tr>\n",
       "    <tr>\n",
       "      <th>2</th>\n",
       "      <td>3</td>\n",
       "      <td>1.0</td>\n",
       "      <td>3</td>\n",
       "      <td>Heikkinen, Miss. Laina</td>\n",
       "      <td>female</td>\n",
       "      <td>26.0</td>\n",
       "      <td>0</td>\n",
       "      <td>0</td>\n",
       "      <td>STON/O2. 3101282</td>\n",
       "      <td>7.9250</td>\n",
       "      <td>...</td>\n",
       "      <td>S</td>\n",
       "      <td>865.0</td>\n",
       "      <td>Heikkinen, Miss Laina</td>\n",
       "      <td>26.0</td>\n",
       "      <td>Jyväskylä, Finland</td>\n",
       "      <td>Southampton</td>\n",
       "      <td>New York City</td>\n",
       "      <td>14?</td>\n",
       "      <td>NaN</td>\n",
       "      <td>3.0</td>\n",
       "    </tr>\n",
       "    <tr>\n",
       "      <th>3</th>\n",
       "      <td>4</td>\n",
       "      <td>1.0</td>\n",
       "      <td>1</td>\n",
       "      <td>Futrelle, Mrs. Jacques Heath (Lily May Peel)</td>\n",
       "      <td>female</td>\n",
       "      <td>35.0</td>\n",
       "      <td>1</td>\n",
       "      <td>0</td>\n",
       "      <td>113803</td>\n",
       "      <td>53.1000</td>\n",
       "      <td>...</td>\n",
       "      <td>S</td>\n",
       "      <td>127.0</td>\n",
       "      <td>Futrelle, Mrs. Lily May (née Peel)</td>\n",
       "      <td>35.0</td>\n",
       "      <td>Scituate, Massachusetts, US</td>\n",
       "      <td>Southampton</td>\n",
       "      <td>Scituate, Massachusetts, US</td>\n",
       "      <td>D</td>\n",
       "      <td>NaN</td>\n",
       "      <td>1.0</td>\n",
       "    </tr>\n",
       "    <tr>\n",
       "      <th>6</th>\n",
       "      <td>7</td>\n",
       "      <td>0.0</td>\n",
       "      <td>1</td>\n",
       "      <td>McCarthy, Mr. Timothy J</td>\n",
       "      <td>male</td>\n",
       "      <td>54.0</td>\n",
       "      <td>0</td>\n",
       "      <td>0</td>\n",
       "      <td>17463</td>\n",
       "      <td>51.8625</td>\n",
       "      <td>...</td>\n",
       "      <td>S</td>\n",
       "      <td>200.0</td>\n",
       "      <td>McCarthy, Mr. Timothy J.</td>\n",
       "      <td>54.0</td>\n",
       "      <td>Dorchester, Massachusetts, US</td>\n",
       "      <td>Southampton</td>\n",
       "      <td>Dorchester, Massachusetts, US</td>\n",
       "      <td>NaN</td>\n",
       "      <td>175MB</td>\n",
       "      <td>1.0</td>\n",
       "    </tr>\n",
       "    <tr>\n",
       "      <th>8</th>\n",
       "      <td>9</td>\n",
       "      <td>1.0</td>\n",
       "      <td>3</td>\n",
       "      <td>Johnson, Mrs. Oscar W (Elisabeth Vilhelmina Berg)</td>\n",
       "      <td>female</td>\n",
       "      <td>27.0</td>\n",
       "      <td>0</td>\n",
       "      <td>2</td>\n",
       "      <td>347742</td>\n",
       "      <td>11.1333</td>\n",
       "      <td>...</td>\n",
       "      <td>S</td>\n",
       "      <td>902.0</td>\n",
       "      <td>Johnson, Mrs. Elisabeth Vilhelmina (née Berg)</td>\n",
       "      <td>26.0</td>\n",
       "      <td>St. Charles, Illinois, US</td>\n",
       "      <td>Southampton</td>\n",
       "      <td>St. Charles, Illinois, US</td>\n",
       "      <td>15</td>\n",
       "      <td>NaN</td>\n",
       "      <td>3.0</td>\n",
       "    </tr>\n",
       "    <tr>\n",
       "      <th>...</th>\n",
       "      <td>...</td>\n",
       "      <td>...</td>\n",
       "      <td>...</td>\n",
       "      <td>...</td>\n",
       "      <td>...</td>\n",
       "      <td>...</td>\n",
       "      <td>...</td>\n",
       "      <td>...</td>\n",
       "      <td>...</td>\n",
       "      <td>...</td>\n",
       "      <td>...</td>\n",
       "      <td>...</td>\n",
       "      <td>...</td>\n",
       "      <td>...</td>\n",
       "      <td>...</td>\n",
       "      <td>...</td>\n",
       "      <td>...</td>\n",
       "      <td>...</td>\n",
       "      <td>...</td>\n",
       "      <td>...</td>\n",
       "      <td>...</td>\n",
       "    </tr>\n",
       "    <tr>\n",
       "      <th>1300</th>\n",
       "      <td>1301</td>\n",
       "      <td>NaN</td>\n",
       "      <td>3</td>\n",
       "      <td>Peacock, Miss. Treasteall</td>\n",
       "      <td>female</td>\n",
       "      <td>3.0</td>\n",
       "      <td>1</td>\n",
       "      <td>1</td>\n",
       "      <td>SOTON/O.Q. 3101315</td>\n",
       "      <td>13.7750</td>\n",
       "      <td>...</td>\n",
       "      <td>S</td>\n",
       "      <td>1119.0</td>\n",
       "      <td>Peacock, Miss Treasteall</td>\n",
       "      <td>4.0</td>\n",
       "      <td>Southampton, Hampshire, England</td>\n",
       "      <td>Southampton</td>\n",
       "      <td>Elizabeth, New Jersey, US</td>\n",
       "      <td>NaN</td>\n",
       "      <td>NaN</td>\n",
       "      <td>3.0</td>\n",
       "    </tr>\n",
       "    <tr>\n",
       "      <th>1301</th>\n",
       "      <td>1302</td>\n",
       "      <td>NaN</td>\n",
       "      <td>3</td>\n",
       "      <td>Naughton, Miss. Hannah</td>\n",
       "      <td>female</td>\n",
       "      <td>NaN</td>\n",
       "      <td>0</td>\n",
       "      <td>0</td>\n",
       "      <td>365237</td>\n",
       "      <td>7.7500</td>\n",
       "      <td>...</td>\n",
       "      <td>Q</td>\n",
       "      <td>1064.0</td>\n",
       "      <td>Naughton, Miss Hannah</td>\n",
       "      <td>21.0</td>\n",
       "      <td>Donoughmore, Ireland</td>\n",
       "      <td>Queenstown</td>\n",
       "      <td>New York City</td>\n",
       "      <td>NaN</td>\n",
       "      <td>NaN</td>\n",
       "      <td>3.0</td>\n",
       "    </tr>\n",
       "    <tr>\n",
       "      <th>1302</th>\n",
       "      <td>1303</td>\n",
       "      <td>NaN</td>\n",
       "      <td>1</td>\n",
       "      <td>Minahan, Mrs. William Edward (Lillian E Thorpe)</td>\n",
       "      <td>female</td>\n",
       "      <td>37.0</td>\n",
       "      <td>1</td>\n",
       "      <td>0</td>\n",
       "      <td>19928</td>\n",
       "      <td>90.0000</td>\n",
       "      <td>...</td>\n",
       "      <td>Q</td>\n",
       "      <td>206.0</td>\n",
       "      <td>Minahan, Mrs. Lillian E. (née Thorpe)</td>\n",
       "      <td>37.0</td>\n",
       "      <td>Fond du Lac, Wisconsin, US</td>\n",
       "      <td>Southampton</td>\n",
       "      <td>Fond du Lac, Wisconsin, US</td>\n",
       "      <td>14</td>\n",
       "      <td>NaN</td>\n",
       "      <td>1.0</td>\n",
       "    </tr>\n",
       "    <tr>\n",
       "      <th>1303</th>\n",
       "      <td>1304</td>\n",
       "      <td>NaN</td>\n",
       "      <td>3</td>\n",
       "      <td>Henriksson, Miss. Jenny Lovisa</td>\n",
       "      <td>female</td>\n",
       "      <td>28.0</td>\n",
       "      <td>0</td>\n",
       "      <td>0</td>\n",
       "      <td>347086</td>\n",
       "      <td>7.7750</td>\n",
       "      <td>...</td>\n",
       "      <td>S</td>\n",
       "      <td>869.0</td>\n",
       "      <td>Henriksson, Miss Jenny Lovisa</td>\n",
       "      <td>28.0</td>\n",
       "      <td>Stockholm, Sweden</td>\n",
       "      <td>Southampton</td>\n",
       "      <td>Iron Mountain, Michigan, US</td>\n",
       "      <td>NaN</td>\n",
       "      <td>3MB</td>\n",
       "      <td>3.0</td>\n",
       "    </tr>\n",
       "    <tr>\n",
       "      <th>1305</th>\n",
       "      <td>1306</td>\n",
       "      <td>NaN</td>\n",
       "      <td>1</td>\n",
       "      <td>Oliva y Ocana, Dona. Fermina</td>\n",
       "      <td>female</td>\n",
       "      <td>39.0</td>\n",
       "      <td>0</td>\n",
       "      <td>0</td>\n",
       "      <td>PC 17758</td>\n",
       "      <td>108.9000</td>\n",
       "      <td>...</td>\n",
       "      <td>C</td>\n",
       "      <td>229.0</td>\n",
       "      <td>and maid, Doña Fermina Oliva y Ocana</td>\n",
       "      <td>39.0</td>\n",
       "      <td>Madrid, Spain</td>\n",
       "      <td>Cherbourg</td>\n",
       "      <td>New York, New York, US</td>\n",
       "      <td>8</td>\n",
       "      <td>NaN</td>\n",
       "      <td>1.0</td>\n",
       "    </tr>\n",
       "  </tbody>\n",
       "</table>\n",
       "<p>529 rows × 21 columns</p>\n",
       "</div>"
      ],
      "text/plain": [
       "      PassengerId  Survived  Pclass  \\\n",
       "1               2       1.0       1   \n",
       "2               3       1.0       3   \n",
       "3               4       1.0       1   \n",
       "6               7       0.0       1   \n",
       "8               9       1.0       3   \n",
       "...           ...       ...     ...   \n",
       "1300         1301       NaN       3   \n",
       "1301         1302       NaN       3   \n",
       "1302         1303       NaN       1   \n",
       "1303         1304       NaN       3   \n",
       "1305         1306       NaN       1   \n",
       "\n",
       "                                                   Name     Sex   Age  SibSp  \\\n",
       "1     Cumings, Mrs. John Bradley (Florence Briggs Th...  female  38.0      1   \n",
       "2                                Heikkinen, Miss. Laina  female  26.0      0   \n",
       "3          Futrelle, Mrs. Jacques Heath (Lily May Peel)  female  35.0      1   \n",
       "6                               McCarthy, Mr. Timothy J    male  54.0      0   \n",
       "8     Johnson, Mrs. Oscar W (Elisabeth Vilhelmina Berg)  female  27.0      0   \n",
       "...                                                 ...     ...   ...    ...   \n",
       "1300                          Peacock, Miss. Treasteall  female   3.0      1   \n",
       "1301                             Naughton, Miss. Hannah  female   NaN      0   \n",
       "1302    Minahan, Mrs. William Edward (Lillian E Thorpe)  female  37.0      1   \n",
       "1303                     Henriksson, Miss. Jenny Lovisa  female  28.0      0   \n",
       "1305                       Oliva y Ocana, Dona. Fermina  female  39.0      0   \n",
       "\n",
       "      Parch              Ticket      Fare  ... Embarked  WikiId  \\\n",
       "1         0            PC 17599   71.2833  ...        C    90.0   \n",
       "2         0    STON/O2. 3101282    7.9250  ...        S   865.0   \n",
       "3         0              113803   53.1000  ...        S   127.0   \n",
       "6         0               17463   51.8625  ...        S   200.0   \n",
       "8         2              347742   11.1333  ...        S   902.0   \n",
       "...     ...                 ...       ...  ...      ...     ...   \n",
       "1300      1  SOTON/O.Q. 3101315   13.7750  ...        S  1119.0   \n",
       "1301      0              365237    7.7500  ...        Q  1064.0   \n",
       "1302      0               19928   90.0000  ...        Q   206.0   \n",
       "1303      0              347086    7.7750  ...        S   869.0   \n",
       "1305      0            PC 17758  108.9000  ...        C   229.0   \n",
       "\n",
       "                                          Name_wiki Age_wiki  \\\n",
       "1        Cumings, Mrs. Florence Briggs (née Thayer)     35.0   \n",
       "2                             Heikkinen, Miss Laina     26.0   \n",
       "3                Futrelle, Mrs. Lily May (née Peel)     35.0   \n",
       "6                          McCarthy, Mr. Timothy J.     54.0   \n",
       "8     Johnson, Mrs. Elisabeth Vilhelmina (née Berg)     26.0   \n",
       "...                                             ...      ...   \n",
       "1300                       Peacock, Miss Treasteall      4.0   \n",
       "1301                          Naughton, Miss Hannah     21.0   \n",
       "1302          Minahan, Mrs. Lillian E. (née Thorpe)     37.0   \n",
       "1303                  Henriksson, Miss Jenny Lovisa     28.0   \n",
       "1305           and maid, Doña Fermina Oliva y Ocana     39.0   \n",
       "\n",
       "                             Hometown      Boarded  \\\n",
       "1              New York, New York, US    Cherbourg   \n",
       "2                  Jyväskylä, Finland  Southampton   \n",
       "3         Scituate, Massachusetts, US  Southampton   \n",
       "6       Dorchester, Massachusetts, US  Southampton   \n",
       "8           St. Charles, Illinois, US  Southampton   \n",
       "...                               ...          ...   \n",
       "1300  Southampton, Hampshire, England  Southampton   \n",
       "1301             Donoughmore, Ireland   Queenstown   \n",
       "1302       Fond du Lac, Wisconsin, US  Southampton   \n",
       "1303                Stockholm, Sweden  Southampton   \n",
       "1305                    Madrid, Spain    Cherbourg   \n",
       "\n",
       "                        Destination Lifeboat   Body Class  \n",
       "1            New York, New York, US        4    NaN   1.0  \n",
       "2                     New York City      14?    NaN   3.0  \n",
       "3       Scituate, Massachusetts, US        D    NaN   1.0  \n",
       "6     Dorchester, Massachusetts, US      NaN  175MB   1.0  \n",
       "8         St. Charles, Illinois, US       15    NaN   3.0  \n",
       "...                             ...      ...    ...   ...  \n",
       "1300      Elizabeth, New Jersey, US      NaN    NaN   3.0  \n",
       "1301                  New York City      NaN    NaN   3.0  \n",
       "1302     Fond du Lac, Wisconsin, US       14    NaN   1.0  \n",
       "1303    Iron Mountain, Michigan, US      NaN    3MB   3.0  \n",
       "1305         New York, New York, US        8    NaN   1.0  \n",
       "\n",
       "[529 rows x 21 columns]"
      ]
     },
     "execution_count": 10,
     "metadata": {},
     "output_type": "execute_result"
    }
   ],
   "source": [
    "df[(df['Age']>50) | (df['Sex']=='female')]"
   ]
  },
  {
   "cell_type": "markdown",
   "metadata": {},
   "source": [
    "# Getting a summary of the data types"
   ]
  },
  {
   "cell_type": "code",
   "execution_count": 327,
   "metadata": {},
   "outputs": [
    {
     "name": "stdout",
     "output_type": "stream",
     "text": [
      "<class 'pandas.core.frame.DataFrame'>\n",
      "RangeIndex: 1309 entries, 0 to 1308\n",
      "Data columns (total 21 columns):\n",
      " #   Column       Non-Null Count  Dtype  \n",
      "---  ------       --------------  -----  \n",
      " 0   PassengerId  1309 non-null   int64  \n",
      " 1   Survived     891 non-null    float64\n",
      " 2   Pclass       1309 non-null   int64  \n",
      " 3   Name         1309 non-null   object \n",
      " 4   Sex          1309 non-null   object \n",
      " 5   Age          1046 non-null   float64\n",
      " 6   SibSp        1309 non-null   int64  \n",
      " 7   Parch        1309 non-null   int64  \n",
      " 8   Ticket       1309 non-null   object \n",
      " 9   Fare         1308 non-null   float64\n",
      " 10  Cabin        295 non-null    object \n",
      " 11  Embarked     1307 non-null   object \n",
      " 12  WikiId       1304 non-null   float64\n",
      " 13  Name_wiki    1304 non-null   object \n",
      " 14  Age_wiki     1302 non-null   float64\n",
      " 15  Hometown     1304 non-null   object \n",
      " 16  Boarded      1304 non-null   object \n",
      " 17  Destination  1304 non-null   object \n",
      " 18  Lifeboat     502 non-null    object \n",
      " 19  Body         130 non-null    object \n",
      " 20  Class        1304 non-null   float64\n",
      "dtypes: float64(6), int64(4), object(11)\n",
      "memory usage: 214.9+ KB\n"
     ]
    }
   ],
   "source": [
    "df.info()"
   ]
  },
  {
   "cell_type": "markdown",
   "metadata": {},
   "source": [
    "## Shape of Data"
   ]
  },
  {
   "cell_type": "code",
   "execution_count": 328,
   "metadata": {},
   "outputs": [
    {
     "data": {
      "text/plain": [
       "(1309, 21)"
      ]
     },
     "execution_count": 328,
     "metadata": {},
     "output_type": "execute_result"
    }
   ],
   "source": [
    "df.shape"
   ]
  },
  {
   "cell_type": "markdown",
   "metadata": {},
   "source": [
    "## Descriptive Statistics of all columns"
   ]
  },
  {
   "cell_type": "code",
   "execution_count": 329,
   "metadata": {},
   "outputs": [
    {
     "data": {
      "text/html": [
       "<div>\n",
       "<style scoped>\n",
       "    .dataframe tbody tr th:only-of-type {\n",
       "        vertical-align: middle;\n",
       "    }\n",
       "\n",
       "    .dataframe tbody tr th {\n",
       "        vertical-align: top;\n",
       "    }\n",
       "\n",
       "    .dataframe thead th {\n",
       "        text-align: right;\n",
       "    }\n",
       "</style>\n",
       "<table border=\"1\" class=\"dataframe\">\n",
       "  <thead>\n",
       "    <tr style=\"text-align: right;\">\n",
       "      <th></th>\n",
       "      <th>PassengerId</th>\n",
       "      <th>Survived</th>\n",
       "      <th>Pclass</th>\n",
       "      <th>Name</th>\n",
       "      <th>Sex</th>\n",
       "      <th>Age</th>\n",
       "      <th>SibSp</th>\n",
       "      <th>Parch</th>\n",
       "      <th>Ticket</th>\n",
       "      <th>Fare</th>\n",
       "      <th>...</th>\n",
       "      <th>Embarked</th>\n",
       "      <th>WikiId</th>\n",
       "      <th>Name_wiki</th>\n",
       "      <th>Age_wiki</th>\n",
       "      <th>Hometown</th>\n",
       "      <th>Boarded</th>\n",
       "      <th>Destination</th>\n",
       "      <th>Lifeboat</th>\n",
       "      <th>Body</th>\n",
       "      <th>Class</th>\n",
       "    </tr>\n",
       "  </thead>\n",
       "  <tbody>\n",
       "    <tr>\n",
       "      <th>count</th>\n",
       "      <td>1309.000000</td>\n",
       "      <td>891.000000</td>\n",
       "      <td>1309.000000</td>\n",
       "      <td>1309</td>\n",
       "      <td>1309</td>\n",
       "      <td>1046.000000</td>\n",
       "      <td>1309.000000</td>\n",
       "      <td>1309.000000</td>\n",
       "      <td>1309</td>\n",
       "      <td>1308.000000</td>\n",
       "      <td>...</td>\n",
       "      <td>1307</td>\n",
       "      <td>1304.000000</td>\n",
       "      <td>1304</td>\n",
       "      <td>1302.000000</td>\n",
       "      <td>1304</td>\n",
       "      <td>1304</td>\n",
       "      <td>1304</td>\n",
       "      <td>502</td>\n",
       "      <td>130</td>\n",
       "      <td>1304.000000</td>\n",
       "    </tr>\n",
       "    <tr>\n",
       "      <th>unique</th>\n",
       "      <td>NaN</td>\n",
       "      <td>NaN</td>\n",
       "      <td>NaN</td>\n",
       "      <td>1307</td>\n",
       "      <td>2</td>\n",
       "      <td>NaN</td>\n",
       "      <td>NaN</td>\n",
       "      <td>NaN</td>\n",
       "      <td>929</td>\n",
       "      <td>NaN</td>\n",
       "      <td>...</td>\n",
       "      <td>3</td>\n",
       "      <td>NaN</td>\n",
       "      <td>1303</td>\n",
       "      <td>NaN</td>\n",
       "      <td>566</td>\n",
       "      <td>4</td>\n",
       "      <td>291</td>\n",
       "      <td>24</td>\n",
       "      <td>130</td>\n",
       "      <td>NaN</td>\n",
       "    </tr>\n",
       "    <tr>\n",
       "      <th>top</th>\n",
       "      <td>NaN</td>\n",
       "      <td>NaN</td>\n",
       "      <td>NaN</td>\n",
       "      <td>Connolly, Miss. Kate</td>\n",
       "      <td>male</td>\n",
       "      <td>NaN</td>\n",
       "      <td>NaN</td>\n",
       "      <td>NaN</td>\n",
       "      <td>CA. 2343</td>\n",
       "      <td>NaN</td>\n",
       "      <td>...</td>\n",
       "      <td>S</td>\n",
       "      <td>NaN</td>\n",
       "      <td>Kelly, Mr. James</td>\n",
       "      <td>NaN</td>\n",
       "      <td>New York, New York, US</td>\n",
       "      <td>Southampton</td>\n",
       "      <td>New York City</td>\n",
       "      <td>13</td>\n",
       "      <td>121MB</td>\n",
       "      <td>NaN</td>\n",
       "    </tr>\n",
       "    <tr>\n",
       "      <th>freq</th>\n",
       "      <td>NaN</td>\n",
       "      <td>NaN</td>\n",
       "      <td>NaN</td>\n",
       "      <td>2</td>\n",
       "      <td>843</td>\n",
       "      <td>NaN</td>\n",
       "      <td>NaN</td>\n",
       "      <td>NaN</td>\n",
       "      <td>11</td>\n",
       "      <td>NaN</td>\n",
       "      <td>...</td>\n",
       "      <td>914</td>\n",
       "      <td>NaN</td>\n",
       "      <td>2</td>\n",
       "      <td>NaN</td>\n",
       "      <td>70</td>\n",
       "      <td>916</td>\n",
       "      <td>234</td>\n",
       "      <td>42</td>\n",
       "      <td>1</td>\n",
       "      <td>NaN</td>\n",
       "    </tr>\n",
       "    <tr>\n",
       "      <th>mean</th>\n",
       "      <td>655.000000</td>\n",
       "      <td>0.383838</td>\n",
       "      <td>2.294882</td>\n",
       "      <td>NaN</td>\n",
       "      <td>NaN</td>\n",
       "      <td>29.881138</td>\n",
       "      <td>0.498854</td>\n",
       "      <td>0.385027</td>\n",
       "      <td>NaN</td>\n",
       "      <td>33.295479</td>\n",
       "      <td>...</td>\n",
       "      <td>NaN</td>\n",
       "      <td>658.534509</td>\n",
       "      <td>NaN</td>\n",
       "      <td>29.415829</td>\n",
       "      <td>NaN</td>\n",
       "      <td>NaN</td>\n",
       "      <td>NaN</td>\n",
       "      <td>NaN</td>\n",
       "      <td>NaN</td>\n",
       "      <td>2.291411</td>\n",
       "    </tr>\n",
       "    <tr>\n",
       "      <th>std</th>\n",
       "      <td>378.020061</td>\n",
       "      <td>0.486592</td>\n",
       "      <td>0.837836</td>\n",
       "      <td>NaN</td>\n",
       "      <td>NaN</td>\n",
       "      <td>14.413493</td>\n",
       "      <td>1.041658</td>\n",
       "      <td>0.865560</td>\n",
       "      <td>NaN</td>\n",
       "      <td>51.758668</td>\n",
       "      <td>...</td>\n",
       "      <td>NaN</td>\n",
       "      <td>380.377373</td>\n",
       "      <td>NaN</td>\n",
       "      <td>13.758954</td>\n",
       "      <td>NaN</td>\n",
       "      <td>NaN</td>\n",
       "      <td>NaN</td>\n",
       "      <td>NaN</td>\n",
       "      <td>NaN</td>\n",
       "      <td>0.840852</td>\n",
       "    </tr>\n",
       "    <tr>\n",
       "      <th>min</th>\n",
       "      <td>1.000000</td>\n",
       "      <td>0.000000</td>\n",
       "      <td>1.000000</td>\n",
       "      <td>NaN</td>\n",
       "      <td>NaN</td>\n",
       "      <td>0.170000</td>\n",
       "      <td>0.000000</td>\n",
       "      <td>0.000000</td>\n",
       "      <td>NaN</td>\n",
       "      <td>0.000000</td>\n",
       "      <td>...</td>\n",
       "      <td>NaN</td>\n",
       "      <td>1.000000</td>\n",
       "      <td>NaN</td>\n",
       "      <td>0.170000</td>\n",
       "      <td>NaN</td>\n",
       "      <td>NaN</td>\n",
       "      <td>NaN</td>\n",
       "      <td>NaN</td>\n",
       "      <td>NaN</td>\n",
       "      <td>1.000000</td>\n",
       "    </tr>\n",
       "    <tr>\n",
       "      <th>25%</th>\n",
       "      <td>328.000000</td>\n",
       "      <td>0.000000</td>\n",
       "      <td>2.000000</td>\n",
       "      <td>NaN</td>\n",
       "      <td>NaN</td>\n",
       "      <td>21.000000</td>\n",
       "      <td>0.000000</td>\n",
       "      <td>0.000000</td>\n",
       "      <td>NaN</td>\n",
       "      <td>7.895800</td>\n",
       "      <td>...</td>\n",
       "      <td>NaN</td>\n",
       "      <td>326.750000</td>\n",
       "      <td>NaN</td>\n",
       "      <td>21.000000</td>\n",
       "      <td>NaN</td>\n",
       "      <td>NaN</td>\n",
       "      <td>NaN</td>\n",
       "      <td>NaN</td>\n",
       "      <td>NaN</td>\n",
       "      <td>1.750000</td>\n",
       "    </tr>\n",
       "    <tr>\n",
       "      <th>50%</th>\n",
       "      <td>655.000000</td>\n",
       "      <td>0.000000</td>\n",
       "      <td>3.000000</td>\n",
       "      <td>NaN</td>\n",
       "      <td>NaN</td>\n",
       "      <td>28.000000</td>\n",
       "      <td>0.000000</td>\n",
       "      <td>0.000000</td>\n",
       "      <td>NaN</td>\n",
       "      <td>14.454200</td>\n",
       "      <td>...</td>\n",
       "      <td>NaN</td>\n",
       "      <td>661.500000</td>\n",
       "      <td>NaN</td>\n",
       "      <td>28.000000</td>\n",
       "      <td>NaN</td>\n",
       "      <td>NaN</td>\n",
       "      <td>NaN</td>\n",
       "      <td>NaN</td>\n",
       "      <td>NaN</td>\n",
       "      <td>3.000000</td>\n",
       "    </tr>\n",
       "    <tr>\n",
       "      <th>75%</th>\n",
       "      <td>982.000000</td>\n",
       "      <td>1.000000</td>\n",
       "      <td>3.000000</td>\n",
       "      <td>NaN</td>\n",
       "      <td>NaN</td>\n",
       "      <td>39.000000</td>\n",
       "      <td>1.000000</td>\n",
       "      <td>0.000000</td>\n",
       "      <td>NaN</td>\n",
       "      <td>31.275000</td>\n",
       "      <td>...</td>\n",
       "      <td>NaN</td>\n",
       "      <td>987.250000</td>\n",
       "      <td>NaN</td>\n",
       "      <td>37.750000</td>\n",
       "      <td>NaN</td>\n",
       "      <td>NaN</td>\n",
       "      <td>NaN</td>\n",
       "      <td>NaN</td>\n",
       "      <td>NaN</td>\n",
       "      <td>3.000000</td>\n",
       "    </tr>\n",
       "    <tr>\n",
       "      <th>max</th>\n",
       "      <td>1309.000000</td>\n",
       "      <td>1.000000</td>\n",
       "      <td>3.000000</td>\n",
       "      <td>NaN</td>\n",
       "      <td>NaN</td>\n",
       "      <td>80.000000</td>\n",
       "      <td>8.000000</td>\n",
       "      <td>9.000000</td>\n",
       "      <td>NaN</td>\n",
       "      <td>512.329200</td>\n",
       "      <td>...</td>\n",
       "      <td>NaN</td>\n",
       "      <td>1314.000000</td>\n",
       "      <td>NaN</td>\n",
       "      <td>74.000000</td>\n",
       "      <td>NaN</td>\n",
       "      <td>NaN</td>\n",
       "      <td>NaN</td>\n",
       "      <td>NaN</td>\n",
       "      <td>NaN</td>\n",
       "      <td>3.000000</td>\n",
       "    </tr>\n",
       "  </tbody>\n",
       "</table>\n",
       "<p>11 rows × 21 columns</p>\n",
       "</div>"
      ],
      "text/plain": [
       "        PassengerId    Survived       Pclass                  Name   Sex  \\\n",
       "count   1309.000000  891.000000  1309.000000                  1309  1309   \n",
       "unique          NaN         NaN          NaN                  1307     2   \n",
       "top             NaN         NaN          NaN  Connolly, Miss. Kate  male   \n",
       "freq            NaN         NaN          NaN                     2   843   \n",
       "mean     655.000000    0.383838     2.294882                   NaN   NaN   \n",
       "std      378.020061    0.486592     0.837836                   NaN   NaN   \n",
       "min        1.000000    0.000000     1.000000                   NaN   NaN   \n",
       "25%      328.000000    0.000000     2.000000                   NaN   NaN   \n",
       "50%      655.000000    0.000000     3.000000                   NaN   NaN   \n",
       "75%      982.000000    1.000000     3.000000                   NaN   NaN   \n",
       "max     1309.000000    1.000000     3.000000                   NaN   NaN   \n",
       "\n",
       "                Age        SibSp        Parch    Ticket         Fare  ...  \\\n",
       "count   1046.000000  1309.000000  1309.000000      1309  1308.000000  ...   \n",
       "unique          NaN          NaN          NaN       929          NaN  ...   \n",
       "top             NaN          NaN          NaN  CA. 2343          NaN  ...   \n",
       "freq            NaN          NaN          NaN        11          NaN  ...   \n",
       "mean      29.881138     0.498854     0.385027       NaN    33.295479  ...   \n",
       "std       14.413493     1.041658     0.865560       NaN    51.758668  ...   \n",
       "min        0.170000     0.000000     0.000000       NaN     0.000000  ...   \n",
       "25%       21.000000     0.000000     0.000000       NaN     7.895800  ...   \n",
       "50%       28.000000     0.000000     0.000000       NaN    14.454200  ...   \n",
       "75%       39.000000     1.000000     0.000000       NaN    31.275000  ...   \n",
       "max       80.000000     8.000000     9.000000       NaN   512.329200  ...   \n",
       "\n",
       "       Embarked       WikiId         Name_wiki     Age_wiki  \\\n",
       "count      1307  1304.000000              1304  1302.000000   \n",
       "unique        3          NaN              1303          NaN   \n",
       "top           S          NaN  Kelly, Mr. James          NaN   \n",
       "freq        914          NaN                 2          NaN   \n",
       "mean        NaN   658.534509               NaN    29.415829   \n",
       "std         NaN   380.377373               NaN    13.758954   \n",
       "min         NaN     1.000000               NaN     0.170000   \n",
       "25%         NaN   326.750000               NaN    21.000000   \n",
       "50%         NaN   661.500000               NaN    28.000000   \n",
       "75%         NaN   987.250000               NaN    37.750000   \n",
       "max         NaN  1314.000000               NaN    74.000000   \n",
       "\n",
       "                      Hometown      Boarded    Destination Lifeboat   Body  \\\n",
       "count                     1304         1304           1304      502    130   \n",
       "unique                     566            4            291       24    130   \n",
       "top     New York, New York, US  Southampton  New York City       13  121MB   \n",
       "freq                        70          916            234       42      1   \n",
       "mean                       NaN          NaN            NaN      NaN    NaN   \n",
       "std                        NaN          NaN            NaN      NaN    NaN   \n",
       "min                        NaN          NaN            NaN      NaN    NaN   \n",
       "25%                        NaN          NaN            NaN      NaN    NaN   \n",
       "50%                        NaN          NaN            NaN      NaN    NaN   \n",
       "75%                        NaN          NaN            NaN      NaN    NaN   \n",
       "max                        NaN          NaN            NaN      NaN    NaN   \n",
       "\n",
       "              Class  \n",
       "count   1304.000000  \n",
       "unique          NaN  \n",
       "top             NaN  \n",
       "freq            NaN  \n",
       "mean       2.291411  \n",
       "std        0.840852  \n",
       "min        1.000000  \n",
       "25%        1.750000  \n",
       "50%        3.000000  \n",
       "75%        3.000000  \n",
       "max        3.000000  \n",
       "\n",
       "[11 rows x 21 columns]"
      ]
     },
     "execution_count": 329,
     "metadata": {},
     "output_type": "execute_result"
    }
   ],
   "source": [
    "df.describe(include='all')"
   ]
  },
  {
   "cell_type": "markdown",
   "metadata": {},
   "source": [
    "## Checking for Duplicated rows"
   ]
  },
  {
   "cell_type": "code",
   "execution_count": 330,
   "metadata": {},
   "outputs": [
    {
     "data": {
      "text/plain": [
       "0"
      ]
     },
     "execution_count": 330,
     "metadata": {},
     "output_type": "execute_result"
    }
   ],
   "source": [
    "df.duplicated().sum()"
   ]
  },
  {
   "cell_type": "markdown",
   "metadata": {},
   "source": [
    "No duplicated rows"
   ]
  },
  {
   "cell_type": "markdown",
   "metadata": {},
   "source": [
    "## Checking for missing values"
   ]
  },
  {
   "cell_type": "code",
   "execution_count": 331,
   "metadata": {},
   "outputs": [
    {
     "data": {
      "text/plain": [
       "PassengerId       0\n",
       "Survived        418\n",
       "Pclass            0\n",
       "Name              0\n",
       "Sex               0\n",
       "Age             263\n",
       "SibSp             0\n",
       "Parch             0\n",
       "Ticket            0\n",
       "Fare              1\n",
       "Cabin          1014\n",
       "Embarked          2\n",
       "WikiId            5\n",
       "Name_wiki         5\n",
       "Age_wiki          7\n",
       "Hometown          5\n",
       "Boarded           5\n",
       "Destination       5\n",
       "Lifeboat        807\n",
       "Body           1179\n",
       "Class             5\n",
       "dtype: int64"
      ]
     },
     "execution_count": 331,
     "metadata": {},
     "output_type": "execute_result"
    }
   ],
   "source": [
    "df.isnull().sum()"
   ]
  },
  {
   "cell_type": "markdown",
   "metadata": {},
   "source": [
    "There are 418 missing values in Survived variable, 263 missing values in Age variable, 1014 missing values in Cabin variable, 807 missing values in Lifeboat variable, 1179 missing values in Body variable, 5 missing values in class variable"
   ]
  },
  {
   "cell_type": "markdown",
   "metadata": {},
   "source": [
    "### Checking 'Body variable'"
   ]
  },
  {
   "cell_type": "code",
   "execution_count": 332,
   "metadata": {},
   "outputs": [
    {
     "name": "stdout",
     "output_type": "stream",
     "text": [
      "[nan '175MB' '322M' '38MB' '234MB' '181MB' '309M' '140MB' '240{?}MB'\n",
      " '283MB' '169MB' '285MB' '98MB' '207MB' '328MM' '171MB' '43MB' '51MB'\n",
      " '7MB' '101MB' '15MB' '174MB' '201MB' '255MB' '245MB' '75MB' '18MB'\n",
      " '143MB' '305MB' '108MB' '230MB' '110MB' '188MB' '306MB' '166MB' '147MB'\n",
      " '236MB' '295MB' '72MB' '314' '232MB' '4MB[84]' '156MB' '103MB' '165MB'\n",
      " '249MB' '275MB' '271MB' '332O' '258MB' '22MB' '312M' '173MB' '68MB'\n",
      " '62MB' '263MB' '287MB' '206MB' '47MB' '17MB' '197MB' '55MB' '69MB' '46MB'\n",
      " '122MB' '256MB' '97MB' '284MB' '89MB' '130MB' '19MB' '37MB' '149MB'\n",
      " '14MB' '172MB' '269MB' '176MB' '61MB' '52MB' '126MB' '79MB' '[66][67]'\n",
      " '50MB' '8MB' '259MB' '196MB' '155MB' '12MB' '70MB' '131MB' '80MB' '119MB'\n",
      " '9MB' '121MB' '58MB' '209MB' '189MB' '45MB' '96MB' '148MB' '293MB'\n",
      " '294MB' '299MB' '331O' '304MB' '194MB' '261MB' '208MB' '142MB'\n",
      " '1{?}MB[86][87]' '124MB' '260MB' '327MM' '187MB' '298MB' '292MB' '286MB'\n",
      " '135MB' '307M' '109MB' '16MB' '133MB' '297MB' '81MB' '153MB' '67MB'\n",
      " '28MB[82]' '35MB' '53MB' '3MB' '32MB']\n",
      "121MB       1\n",
      "12MB        1\n",
      "240{?}MB    1\n",
      "32MB        1\n",
      "285MB       1\n",
      "           ..\n",
      "169MB       1\n",
      "155MB       1\n",
      "153MB       1\n",
      "18MB        1\n",
      "207MB       1\n",
      "Name: Body, Length: 130, dtype: int64\n",
      "percentage of missing :  90.06875477463713\n"
     ]
    }
   ],
   "source": [
    "print(df['Body'].unique())\n",
    "\n",
    "print(df['Body'].value_counts())\n",
    "\n",
    "\n",
    "print(\"percentage of missing : \", (1179/1309)*100)"
   ]
  },
  {
   "cell_type": "markdown",
   "metadata": {},
   "source": [
    "A majority of the data is missing in this column (90% of the data). therefore this column should be removed"
   ]
  },
  {
   "cell_type": "markdown",
   "metadata": {},
   "source": [
    "## Drop 'Body variable'"
   ]
  },
  {
   "cell_type": "code",
   "execution_count": 333,
   "metadata": {},
   "outputs": [
    {
     "name": "stdout",
     "output_type": "stream",
     "text": [
      "<class 'pandas.core.frame.DataFrame'>\n",
      "RangeIndex: 1309 entries, 0 to 1308\n",
      "Data columns (total 20 columns):\n",
      " #   Column       Non-Null Count  Dtype  \n",
      "---  ------       --------------  -----  \n",
      " 0   PassengerId  1309 non-null   int64  \n",
      " 1   Survived     891 non-null    float64\n",
      " 2   Pclass       1309 non-null   int64  \n",
      " 3   Name         1309 non-null   object \n",
      " 4   Sex          1309 non-null   object \n",
      " 5   Age          1046 non-null   float64\n",
      " 6   SibSp        1309 non-null   int64  \n",
      " 7   Parch        1309 non-null   int64  \n",
      " 8   Ticket       1309 non-null   object \n",
      " 9   Fare         1308 non-null   float64\n",
      " 10  Cabin        295 non-null    object \n",
      " 11  Embarked     1307 non-null   object \n",
      " 12  WikiId       1304 non-null   float64\n",
      " 13  Name_wiki    1304 non-null   object \n",
      " 14  Age_wiki     1302 non-null   float64\n",
      " 15  Hometown     1304 non-null   object \n",
      " 16  Boarded      1304 non-null   object \n",
      " 17  Destination  1304 non-null   object \n",
      " 18  Lifeboat     502 non-null    object \n",
      " 19  Class        1304 non-null   float64\n",
      "dtypes: float64(6), int64(4), object(10)\n",
      "memory usage: 204.7+ KB\n"
     ]
    }
   ],
   "source": [
    "df.drop(columns=['Body'], axis=1, inplace=True)\n",
    "df.head()\n",
    "df.info()"
   ]
  },
  {
   "cell_type": "markdown",
   "metadata": {},
   "source": [
    "The body variable is removed "
   ]
  },
  {
   "cell_type": "markdown",
   "metadata": {},
   "source": [
    "## Distribution of Age and Age_wiki"
   ]
  },
  {
   "cell_type": "code",
   "execution_count": 334,
   "metadata": {
    "scrolled": true
   },
   "outputs": [
    {
     "data": {
      "text/plain": [
       "<AxesSubplot:xlabel='Age', ylabel='Count'>"
      ]
     },
     "execution_count": 334,
     "metadata": {},
     "output_type": "execute_result"
    },
    {
     "data": {
      "image/png": "[encoded data removed]",
      "text/plain": [
       "<Figure size 432x288 with 1 Axes>"
      ]
     },
     "metadata": {
      "needs_background": "light"
     },
     "output_type": "display_data"
    }
   ],
   "source": [
    "sns.histplot(data=df,x='Age',alpha=0.5,color='r')\n",
    "sns.histplot(data=df,x='Age_wiki', alpha=0.5 )"
   ]
  },
  {
   "cell_type": "markdown",
   "metadata": {},
   "source": [
    "Both have the same right skewed distribution. Age has 263 missing values while Age_wiki has only 7 missing values. since the distribution is skewed it is better to use median as the imputed value "
   ]
  },
  {
   "cell_type": "markdown",
   "metadata": {},
   "source": [
    "### Replacing missing values of  'Age ' (in original dataset)  with 'Age_wiki'"
   ]
  },
  {
   "cell_type": "markdown",
   "metadata": {},
   "source": [
    "The missing values in original Age variable will be replaced with the values of Age_wiki variable first"
   ]
  },
  {
   "cell_type": "code",
   "execution_count": 335,
   "metadata": {},
   "outputs": [],
   "source": [
    "df['Age'].fillna(df['Age_wiki'], inplace=True)"
   ]
  },
  {
   "cell_type": "markdown",
   "metadata": {},
   "source": [
    "Now check for the total missing values of Age variable and its distribution"
   ]
  },
  {
   "cell_type": "code",
   "execution_count": 336,
   "metadata": {
    "scrolled": true
   },
   "outputs": [
    {
     "data": {
      "text/plain": [
       "4"
      ]
     },
     "execution_count": 336,
     "metadata": {},
     "output_type": "execute_result"
    }
   ],
   "source": [
    "df['Age'].isnull().sum()"
   ]
  },
  {
   "cell_type": "markdown",
   "metadata": {},
   "source": [
    "There are only 4 missing values. these can be imputed with the median "
   ]
  },
  {
   "cell_type": "markdown",
   "metadata": {},
   "source": [
    "## imputing missing values of Age"
   ]
  },
  {
   "cell_type": "code",
   "execution_count": 337,
   "metadata": {},
   "outputs": [
    {
     "data": {
      "text/html": [
       "<div>\n",
       "<style scoped>\n",
       "    .dataframe tbody tr th:only-of-type {\n",
       "        vertical-align: middle;\n",
       "    }\n",
       "\n",
       "    .dataframe tbody tr th {\n",
       "        vertical-align: top;\n",
       "    }\n",
       "\n",
       "    .dataframe thead th {\n",
       "        text-align: right;\n",
       "    }\n",
       "</style>\n",
       "<table border=\"1\" class=\"dataframe\">\n",
       "  <thead>\n",
       "    <tr style=\"text-align: right;\">\n",
       "      <th></th>\n",
       "      <th>PassengerId</th>\n",
       "      <th>Survived</th>\n",
       "      <th>Pclass</th>\n",
       "      <th>Name</th>\n",
       "      <th>Sex</th>\n",
       "      <th>Age</th>\n",
       "      <th>SibSp</th>\n",
       "      <th>Parch</th>\n",
       "      <th>Ticket</th>\n",
       "      <th>Fare</th>\n",
       "      <th>Cabin</th>\n",
       "      <th>Embarked</th>\n",
       "      <th>WikiId</th>\n",
       "      <th>Name_wiki</th>\n",
       "      <th>Age_wiki</th>\n",
       "      <th>Hometown</th>\n",
       "      <th>Boarded</th>\n",
       "      <th>Destination</th>\n",
       "      <th>Lifeboat</th>\n",
       "      <th>Class</th>\n",
       "    </tr>\n",
       "  </thead>\n",
       "  <tbody>\n",
       "    <tr>\n",
       "      <th>42</th>\n",
       "      <td>43</td>\n",
       "      <td>0.0</td>\n",
       "      <td>3</td>\n",
       "      <td>Kraeff, Mr. Theodor</td>\n",
       "      <td>male</td>\n",
       "      <td>NaN</td>\n",
       "      <td>0</td>\n",
       "      <td>0</td>\n",
       "      <td>349253</td>\n",
       "      <td>7.8958</td>\n",
       "      <td>NaN</td>\n",
       "      <td>C</td>\n",
       "      <td>946.0</td>\n",
       "      <td>Kraeff, Mr. Theodor</td>\n",
       "      <td>NaN</td>\n",
       "      <td>Vetren, Bulgaria</td>\n",
       "      <td>Cherbourg</td>\n",
       "      <td>Madison, Wisconsin, US</td>\n",
       "      <td>NaN</td>\n",
       "      <td>3.0</td>\n",
       "    </tr>\n",
       "    <tr>\n",
       "      <th>347</th>\n",
       "      <td>348</td>\n",
       "      <td>1.0</td>\n",
       "      <td>3</td>\n",
       "      <td>Davison, Mrs. Thomas Henry (Mary E Finck)</td>\n",
       "      <td>female</td>\n",
       "      <td>NaN</td>\n",
       "      <td>1</td>\n",
       "      <td>0</td>\n",
       "      <td>386525</td>\n",
       "      <td>16.1000</td>\n",
       "      <td>NaN</td>\n",
       "      <td>S</td>\n",
       "      <td>NaN</td>\n",
       "      <td>NaN</td>\n",
       "      <td>NaN</td>\n",
       "      <td>NaN</td>\n",
       "      <td>NaN</td>\n",
       "      <td>NaN</td>\n",
       "      <td>NaN</td>\n",
       "      <td>NaN</td>\n",
       "    </tr>\n",
       "    <tr>\n",
       "      <th>420</th>\n",
       "      <td>421</td>\n",
       "      <td>0.0</td>\n",
       "      <td>3</td>\n",
       "      <td>Gheorgheff, Mr. Stanio</td>\n",
       "      <td>male</td>\n",
       "      <td>NaN</td>\n",
       "      <td>0</td>\n",
       "      <td>0</td>\n",
       "      <td>349254</td>\n",
       "      <td>7.8958</td>\n",
       "      <td>NaN</td>\n",
       "      <td>C</td>\n",
       "      <td>823.0</td>\n",
       "      <td>Gheorgheff, Mr. Stanio</td>\n",
       "      <td>NaN</td>\n",
       "      <td>Unknown, Bulgaria</td>\n",
       "      <td>Cherbourg</td>\n",
       "      <td>Butte, Montana, US</td>\n",
       "      <td>NaN</td>\n",
       "      <td>3.0</td>\n",
       "    </tr>\n",
       "    <tr>\n",
       "      <th>557</th>\n",
       "      <td>558</td>\n",
       "      <td>0.0</td>\n",
       "      <td>1</td>\n",
       "      <td>Robbins, Mr. Victor</td>\n",
       "      <td>male</td>\n",
       "      <td>NaN</td>\n",
       "      <td>0</td>\n",
       "      <td>0</td>\n",
       "      <td>PC 17757</td>\n",
       "      <td>227.5250</td>\n",
       "      <td>NaN</td>\n",
       "      <td>C</td>\n",
       "      <td>NaN</td>\n",
       "      <td>NaN</td>\n",
       "      <td>NaN</td>\n",
       "      <td>NaN</td>\n",
       "      <td>NaN</td>\n",
       "      <td>NaN</td>\n",
       "      <td>NaN</td>\n",
       "      <td>NaN</td>\n",
       "    </tr>\n",
       "  </tbody>\n",
       "</table>\n",
       "</div>"
      ],
      "text/plain": [
       "     PassengerId  Survived  Pclass                                       Name  \\\n",
       "42            43       0.0       3                        Kraeff, Mr. Theodor   \n",
       "347          348       1.0       3  Davison, Mrs. Thomas Henry (Mary E Finck)   \n",
       "420          421       0.0       3                     Gheorgheff, Mr. Stanio   \n",
       "557          558       0.0       1                        Robbins, Mr. Victor   \n",
       "\n",
       "        Sex  Age  SibSp  Parch    Ticket      Fare Cabin Embarked  WikiId  \\\n",
       "42     male  NaN      0      0    349253    7.8958   NaN        C   946.0   \n",
       "347  female  NaN      1      0    386525   16.1000   NaN        S     NaN   \n",
       "420    male  NaN      0      0    349254    7.8958   NaN        C   823.0   \n",
       "557    male  NaN      0      0  PC 17757  227.5250   NaN        C     NaN   \n",
       "\n",
       "                  Name_wiki  Age_wiki           Hometown    Boarded  \\\n",
       "42      Kraeff, Mr. Theodor       NaN   Vetren, Bulgaria  Cherbourg   \n",
       "347                     NaN       NaN                NaN        NaN   \n",
       "420  Gheorgheff, Mr. Stanio       NaN  Unknown, Bulgaria  Cherbourg   \n",
       "557                     NaN       NaN                NaN        NaN   \n",
       "\n",
       "                Destination Lifeboat  Class  \n",
       "42   Madison, Wisconsin, US      NaN    3.0  \n",
       "347                     NaN      NaN    NaN  \n",
       "420      Butte, Montana, US      NaN    3.0  \n",
       "557                     NaN      NaN    NaN  "
      ]
     },
     "execution_count": 337,
     "metadata": {},
     "output_type": "execute_result"
    }
   ],
   "source": [
    "df[df['Age'].isnull()]"
   ]
  },
  {
   "cell_type": "code",
   "execution_count": 338,
   "metadata": {},
   "outputs": [
    {
     "data": {
      "text/plain": [
       "<seaborn.axisgrid.FacetGrid at 0x1b363c25910>"
      ]
     },
     "execution_count": 338,
     "metadata": {},
     "output_type": "execute_result"
    },
    {
     "data": {
      "image/png": "[encoded data removed]",
      "text/plain": [
       "<Figure size 648x432 with 6 Axes>"
      ]
     },
     "metadata": {
      "needs_background": "light"
     },
     "output_type": "display_data"
    }
   ],
   "source": [
    "g = sns.FacetGrid(df, col=\"Pclass\",  row=\"Sex\")\n",
    "g.map_dataframe(sns.boxplot, x=\"Age\")"
   ]
  },
  {
   "cell_type": "markdown",
   "metadata": {},
   "source": [
    "It can be seen that in different Pclass and for different genders the median of Age values are different. therefore the missing values should be imputed based on these two criterias as well"
   ]
  },
  {
   "cell_type": "markdown",
   "metadata": {},
   "source": [
    "### imputing missing values for Age Variable"
   ]
  },
  {
   "cell_type": "code",
   "execution_count": 339,
   "metadata": {},
   "outputs": [],
   "source": [
    "df['Age']=df.groupby(['Sex','Pclass'])['Age'].apply(lambda x: x.fillna(x.median()))"
   ]
  },
  {
   "cell_type": "code",
   "execution_count": 340,
   "metadata": {},
   "outputs": [
    {
     "data": {
      "text/plain": [
       "PassengerId       0\n",
       "Survived        418\n",
       "Pclass            0\n",
       "Name              0\n",
       "Sex               0\n",
       "Age               0\n",
       "SibSp             0\n",
       "Parch             0\n",
       "Ticket            0\n",
       "Fare              1\n",
       "Cabin          1014\n",
       "Embarked          2\n",
       "WikiId            5\n",
       "Name_wiki         5\n",
       "Age_wiki          7\n",
       "Hometown          5\n",
       "Boarded           5\n",
       "Destination       5\n",
       "Lifeboat        807\n",
       "Class             5\n",
       "dtype: int64"
      ]
     },
     "execution_count": 340,
     "metadata": {},
     "output_type": "execute_result"
    }
   ],
   "source": [
    "df.isnull().sum()"
   ]
  },
  {
   "cell_type": "markdown",
   "metadata": {},
   "source": [
    "The missing values of 'Age variable has been removed '"
   ]
  },
  {
   "cell_type": "markdown",
   "metadata": {},
   "source": [
    "### Drop Age_wiki variable \n",
    "\n",
    "since Age variable is already there the Age_wiki variable will be removd from the data set"
   ]
  },
  {
   "cell_type": "code",
   "execution_count": 341,
   "metadata": {},
   "outputs": [
    {
     "name": "stdout",
     "output_type": "stream",
     "text": [
      "<class 'pandas.core.frame.DataFrame'>\n",
      "RangeIndex: 1309 entries, 0 to 1308\n",
      "Data columns (total 19 columns):\n",
      " #   Column       Non-Null Count  Dtype  \n",
      "---  ------       --------------  -----  \n",
      " 0   PassengerId  1309 non-null   int64  \n",
      " 1   Survived     891 non-null    float64\n",
      " 2   Pclass       1309 non-null   int64  \n",
      " 3   Name         1309 non-null   object \n",
      " 4   Sex          1309 non-null   object \n",
      " 5   Age          1309 non-null   float64\n",
      " 6   SibSp        1309 non-null   int64  \n",
      " 7   Parch        1309 non-null   int64  \n",
      " 8   Ticket       1309 non-null   object \n",
      " 9   Fare         1308 non-null   float64\n",
      " 10  Cabin        295 non-null    object \n",
      " 11  Embarked     1307 non-null   object \n",
      " 12  WikiId       1304 non-null   float64\n",
      " 13  Name_wiki    1304 non-null   object \n",
      " 14  Hometown     1304 non-null   object \n",
      " 15  Boarded      1304 non-null   object \n",
      " 16  Destination  1304 non-null   object \n",
      " 17  Lifeboat     502 non-null    object \n",
      " 18  Class        1304 non-null   float64\n",
      "dtypes: float64(5), int64(4), object(10)\n",
      "memory usage: 194.4+ KB\n"
     ]
    }
   ],
   "source": [
    "df.drop(columns='Age_wiki', axis=1, inplace=True)\n",
    "df.info()"
   ]
  },
  {
   "cell_type": "markdown",
   "metadata": {},
   "source": [
    "# Checking name & wiki name variable \n"
   ]
  },
  {
   "cell_type": "code",
   "execution_count": 342,
   "metadata": {},
   "outputs": [
    {
     "name": "stdout",
     "output_type": "stream",
     "text": [
      "                                                Name  \\\n",
      "0                            Braund, Mr. Owen Harris   \n",
      "1  Cumings, Mrs. John Bradley (Florence Briggs Th...   \n",
      "2                             Heikkinen, Miss. Laina   \n",
      "3       Futrelle, Mrs. Jacques Heath (Lily May Peel)   \n",
      "4                           Allen, Mr. William Henry   \n",
      "\n",
      "                                    Name_wiki  \n",
      "0                     Braund, Mr. Owen Harris  \n",
      "1  Cumings, Mrs. Florence Briggs (née Thayer)  \n",
      "2                       Heikkinen, Miss Laina  \n",
      "3          Futrelle, Mrs. Lily May (née Peel)  \n",
      "4                    Allen, Mr. William Henry  \n"
     ]
    },
    {
     "data": {
      "text/plain": [
       "Name         0\n",
       "Name_wiki    5\n",
       "dtype: int64"
      ]
     },
     "execution_count": 342,
     "metadata": {},
     "output_type": "execute_result"
    }
   ],
   "source": [
    "print(df[['Name','Name_wiki']].head())\n",
    "df[['Name','Name_wiki']].isnull().sum()"
   ]
  },
  {
   "cell_type": "markdown",
   "metadata": {},
   "source": [
    "both columns look alike but name wiki has 5 missing values. therefore this column will be removed \n",
    "\n",
    "## Removing Name_wiki"
   ]
  },
  {
   "cell_type": "code",
   "execution_count": 343,
   "metadata": {},
   "outputs": [
    {
     "data": {
      "text/plain": [
       "Index(['PassengerId', 'Survived', 'Pclass', 'Name', 'Sex', 'Age', 'SibSp',\n",
       "       'Parch', 'Ticket', 'Fare', 'Cabin', 'Embarked', 'WikiId', 'Hometown',\n",
       "       'Boarded', 'Destination', 'Lifeboat', 'Class'],\n",
       "      dtype='object')"
      ]
     },
     "execution_count": 343,
     "metadata": {},
     "output_type": "execute_result"
    }
   ],
   "source": [
    "df.drop(columns=\"Name_wiki\",axis=1,inplace=True)\n",
    "df.columns"
   ]
  },
  {
   "cell_type": "markdown",
   "metadata": {},
   "source": [
    "Name wiki has been removed. \n",
    "\n",
    "# Extracting Titles from names "
   ]
  },
  {
   "cell_type": "code",
   "execution_count": 344,
   "metadata": {},
   "outputs": [
    {
     "data": {
      "text/plain": [
       "Index(['PassengerId', 'Survived', 'Pclass', 'Name', 'Sex', 'Age', 'SibSp',\n",
       "       'Parch', 'Ticket', 'Fare', 'Cabin', 'Embarked', 'WikiId', 'Hometown',\n",
       "       'Boarded', 'Destination', 'Lifeboat', 'Class', 'Title'],\n",
       "      dtype='object')"
      ]
     },
     "execution_count": 344,
     "metadata": {},
     "output_type": "execute_result"
    }
   ],
   "source": [
    "df[\"Title\"]=df[\"Name\"].str.extract('([A-Za-z]+)\\.',expand=False)\n",
    "df.columns\n"
   ]
  },
  {
   "cell_type": "markdown",
   "metadata": {},
   "source": [
    "Title columns has been included. \n",
    "\n",
    "# Title info"
   ]
  },
  {
   "cell_type": "code",
   "execution_count": 345,
   "metadata": {},
   "outputs": [
    {
     "name": "stdout",
     "output_type": "stream",
     "text": [
      "['Mr' 'Mrs' 'Miss' 'Master' 'Don' 'Rev' 'Dr' 'Mme' 'Ms' 'Major' 'Lady'\n",
      " 'Sir' 'Mlle' 'Col' 'Capt' 'Countess' 'Jonkheer' 'Dona']\n",
      "Mr          757\n",
      "Miss        260\n",
      "Mrs         197\n",
      "Master       61\n",
      "Rev           8\n",
      "Dr            8\n",
      "Col           4\n",
      "Ms            2\n",
      "Mlle          2\n",
      "Major         2\n",
      "Dona          1\n",
      "Don           1\n",
      "Mme           1\n",
      "Sir           1\n",
      "Capt          1\n",
      "Jonkheer      1\n",
      "Lady          1\n",
      "Countess      1\n",
      "Name: Title, dtype: int64\n"
     ]
    }
   ],
   "source": [
    "print(df.Title.unique())\n",
    "print(df.Title.value_counts())"
   ]
  },
  {
   "cell_type": "markdown",
   "metadata": {},
   "source": [
    "The title can be categorized in to five main categories : Mr. ,Mrs. ,Miss., Master., Other"
   ]
  },
  {
   "cell_type": "code",
   "execution_count": 346,
   "metadata": {},
   "outputs": [],
   "source": [
    "df[\"Title\"]=df['Title'].replace(['Rev','Dr','Col','Major','Mlle','Ms','Countess','Capt','Dona','Mme','Lady','Don','Jonkheer','Sir'],\"Other\")"
   ]
  },
  {
   "cell_type": "code",
   "execution_count": 347,
   "metadata": {},
   "outputs": [
    {
     "data": {
      "text/plain": [
       "Mr        757\n",
       "Miss      260\n",
       "Mrs       197\n",
       "Master     61\n",
       "Other      34\n",
       "Name: Title, dtype: int64"
      ]
     },
     "execution_count": 347,
     "metadata": {},
     "output_type": "execute_result"
    }
   ],
   "source": [
    "df['Title'].unique()\n",
    "df['Title'].value_counts()"
   ]
  },
  {
   "cell_type": "markdown",
   "metadata": {},
   "source": [
    "The title names have been replaced \n",
    "\n",
    "# Title vs. Survived"
   ]
  },
  {
   "cell_type": "code",
   "execution_count": 348,
   "metadata": {},
   "outputs": [
    {
     "name": "stdout",
     "output_type": "stream",
     "text": [
      "Title       Master      Miss        Mr       Mrs     Other\n",
      "Survived                                                  \n",
      "0.0       0.030965  0.100182  0.794171  0.047359  0.027322\n",
      "1.0       0.067251  0.371345  0.236842  0.289474  0.035088\n"
     ]
    },
    {
     "data": {
      "text/plain": [
       "<AxesSubplot:xlabel='Survived'>"
      ]
     },
     "execution_count": 348,
     "metadata": {},
     "output_type": "execute_result"
    },
    {
     "data": {
      "image/png": "[encoded data removed]",
      "text/plain": [
       "<Figure size 432x288 with 1 Axes>"
      ]
     },
     "metadata": {
      "needs_background": "light"
     },
     "output_type": "display_data"
    }
   ],
   "source": [
    "cross_tab_prop = pd.crosstab(index=df['Survived'],\n",
    "                             columns=df['Title'], normalize=\"index\")\n",
    "print(cross_tab_prop)\n",
    "cross_tab_prop.plot(kind='bar',stacked =True )\n"
   ]
  },
  {
   "cell_type": "markdown",
   "metadata": {},
   "source": [
    "Mr has a high chance to die while Mrs has a high chance to survive "
   ]
  },
  {
   "cell_type": "markdown",
   "metadata": {},
   "source": [
    "# Drop name variable \n",
    "\n",
    "since essentail data is extracted from name it can be dropped"
   ]
  },
  {
   "cell_type": "code",
   "execution_count": 349,
   "metadata": {},
   "outputs": [
    {
     "data": {
      "text/plain": [
       "Index(['PassengerId', 'Survived', 'Pclass', 'Sex', 'Age', 'SibSp', 'Parch',\n",
       "       'Ticket', 'Fare', 'Cabin', 'Embarked', 'WikiId', 'Hometown', 'Boarded',\n",
       "       'Destination', 'Lifeboat', 'Class', 'Title'],\n",
       "      dtype='object')"
      ]
     },
     "execution_count": 349,
     "metadata": {},
     "output_type": "execute_result"
    }
   ],
   "source": [
    "df.drop(columns=\"Name\",axis=1,inplace=True)\n",
    "df.columns"
   ]
  },
  {
   "cell_type": "markdown",
   "metadata": {},
   "source": [
    "# Drop passenger id and wiki id \n",
    "\n",
    "\n",
    "These two variables do not provide any meaningfull information. therefore these can be dropped"
   ]
  },
  {
   "cell_type": "code",
   "execution_count": 350,
   "metadata": {
    "scrolled": true
   },
   "outputs": [
    {
     "data": {
      "text/plain": [
       "Index(['Survived', 'Pclass', 'Sex', 'Age', 'SibSp', 'Parch', 'Ticket', 'Fare',\n",
       "       'Cabin', 'Embarked', 'Hometown', 'Boarded', 'Destination', 'Lifeboat',\n",
       "       'Class', 'Title'],\n",
       "      dtype='object')"
      ]
     },
     "execution_count": 350,
     "metadata": {},
     "output_type": "execute_result"
    }
   ],
   "source": [
    "df.drop(columns=['PassengerId','WikiId'],axis=1,inplace=True)\n",
    "df.columns"
   ]
  },
  {
   "cell_type": "markdown",
   "metadata": {},
   "source": [
    "# Pclass vs . Class"
   ]
  },
  {
   "cell_type": "code",
   "execution_count": 351,
   "metadata": {},
   "outputs": [
    {
     "data": {
      "text/plain": [
       "<AxesSubplot:xlabel='Class', ylabel='count'>"
      ]
     },
     "execution_count": 351,
     "metadata": {},
     "output_type": "execute_result"
    },
    {
     "data": {
      "image/png": "[encoded data removed]",
      "text/plain": [
       "<Figure size 432x288 with 2 Axes>"
      ]
     },
     "metadata": {
      "needs_background": "light"
     },
     "output_type": "display_data"
    }
   ],
   "source": [
    "plt.subplot(2,1,1)\n",
    "sns.countplot(data=df, x='Pclass')\n",
    "\n",
    "plt.subplot(2,1,2)\n",
    "sns.countplot(data=df,x='Class')"
   ]
  },
  {
   "cell_type": "markdown",
   "metadata": {},
   "source": [
    "Both looks same. Therefore one should be removed"
   ]
  },
  {
   "cell_type": "code",
   "execution_count": 353,
   "metadata": {},
   "outputs": [
    {
     "data": {
      "text/html": [
       "<div>\n",
       "<style scoped>\n",
       "    .dataframe tbody tr th:only-of-type {\n",
       "        vertical-align: middle;\n",
       "    }\n",
       "\n",
       "    .dataframe tbody tr th {\n",
       "        vertical-align: top;\n",
       "    }\n",
       "\n",
       "    .dataframe thead th {\n",
       "        text-align: right;\n",
       "    }\n",
       "</style>\n",
       "<table border=\"1\" class=\"dataframe\">\n",
       "  <thead>\n",
       "    <tr style=\"text-align: right;\">\n",
       "      <th></th>\n",
       "      <th>Pclass</th>\n",
       "      <th>Class</th>\n",
       "      <th>SibSp</th>\n",
       "      <th>Fare</th>\n",
       "    </tr>\n",
       "  </thead>\n",
       "  <tbody>\n",
       "    <tr>\n",
       "      <th>181</th>\n",
       "      <td>2</td>\n",
       "      <td>1.0</td>\n",
       "      <td>0</td>\n",
       "      <td>15.0500</td>\n",
       "    </tr>\n",
       "    <tr>\n",
       "      <th>345</th>\n",
       "      <td>2</td>\n",
       "      <td>1.0</td>\n",
       "      <td>0</td>\n",
       "      <td>13.0000</td>\n",
       "    </tr>\n",
       "    <tr>\n",
       "      <th>347</th>\n",
       "      <td>3</td>\n",
       "      <td>NaN</td>\n",
       "      <td>1</td>\n",
       "      <td>16.1000</td>\n",
       "    </tr>\n",
       "    <tr>\n",
       "      <th>557</th>\n",
       "      <td>1</td>\n",
       "      <td>NaN</td>\n",
       "      <td>0</td>\n",
       "      <td>227.5250</td>\n",
       "    </tr>\n",
       "    <tr>\n",
       "      <th>969</th>\n",
       "      <td>2</td>\n",
       "      <td>1.0</td>\n",
       "      <td>0</td>\n",
       "      <td>13.0000</td>\n",
       "    </tr>\n",
       "    <tr>\n",
       "      <th>1000</th>\n",
       "      <td>2</td>\n",
       "      <td>1.0</td>\n",
       "      <td>0</td>\n",
       "      <td>13.0000</td>\n",
       "    </tr>\n",
       "    <tr>\n",
       "      <th>1041</th>\n",
       "      <td>1</td>\n",
       "      <td>NaN</td>\n",
       "      <td>0</td>\n",
       "      <td>83.1583</td>\n",
       "    </tr>\n",
       "    <tr>\n",
       "      <th>1048</th>\n",
       "      <td>3</td>\n",
       "      <td>NaN</td>\n",
       "      <td>0</td>\n",
       "      <td>7.8542</td>\n",
       "    </tr>\n",
       "    <tr>\n",
       "      <th>1228</th>\n",
       "      <td>3</td>\n",
       "      <td>NaN</td>\n",
       "      <td>0</td>\n",
       "      <td>7.2292</td>\n",
       "    </tr>\n",
       "    <tr>\n",
       "      <th>1296</th>\n",
       "      <td>2</td>\n",
       "      <td>1.0</td>\n",
       "      <td>0</td>\n",
       "      <td>13.8625</td>\n",
       "    </tr>\n",
       "  </tbody>\n",
       "</table>\n",
       "</div>"
      ],
      "text/plain": [
       "      Pclass  Class  SibSp      Fare\n",
       "181        2    1.0      0   15.0500\n",
       "345        2    1.0      0   13.0000\n",
       "347        3    NaN      1   16.1000\n",
       "557        1    NaN      0  227.5250\n",
       "969        2    1.0      0   13.0000\n",
       "1000       2    1.0      0   13.0000\n",
       "1041       1    NaN      0   83.1583\n",
       "1048       3    NaN      0    7.8542\n",
       "1228       3    NaN      0    7.2292\n",
       "1296       2    1.0      0   13.8625"
      ]
     },
     "execution_count": 353,
     "metadata": {},
     "output_type": "execute_result"
    }
   ],
   "source": [
    "df[['Pclass','Class','SibSp','Fare']][df['Pclass']!=df['Class']]"
   ]
  },
  {
   "cell_type": "markdown",
   "metadata": {},
   "source": [
    "Here it can be seen that in Class column some mis interpretation has been done. the firt class fare is very low. but in pclass the fare for second class is reasonable. and also most of the missing values are in Class.  therefore Class will be omitte.\n",
    "\n",
    "\n",
    "# Drop Class variable"
   ]
  },
  {
   "cell_type": "code",
   "execution_count": 354,
   "metadata": {},
   "outputs": [
    {
     "data": {
      "text/plain": [
       "Index(['Survived', 'Pclass', 'Sex', 'Age', 'SibSp', 'Parch', 'Ticket', 'Fare',\n",
       "       'Cabin', 'Embarked', 'Hometown', 'Boarded', 'Destination', 'Lifeboat',\n",
       "       'Title'],\n",
       "      dtype='object')"
      ]
     },
     "execution_count": 354,
     "metadata": {},
     "output_type": "execute_result"
    }
   ],
   "source": [
    "df.drop(columns='Class', axis=1, inplace=True)\n",
    "df.columns"
   ]
  },
  {
   "cell_type": "markdown",
   "metadata": {},
   "source": [
    "\n",
    "\n",
    "# Fare variable \n"
   ]
  },
  {
   "cell_type": "code",
   "execution_count": 355,
   "metadata": {},
   "outputs": [
    {
     "data": {
      "text/plain": [
       "1"
      ]
     },
     "execution_count": 355,
     "metadata": {},
     "output_type": "execute_result"
    }
   ],
   "source": [
    "df['Fare'].isnull().sum()"
   ]
  },
  {
   "cell_type": "markdown",
   "metadata": {},
   "source": [
    "Only one missing value "
   ]
  },
  {
   "cell_type": "code",
   "execution_count": 356,
   "metadata": {},
   "outputs": [
    {
     "data": {
      "text/html": [
       "<div>\n",
       "<style scoped>\n",
       "    .dataframe tbody tr th:only-of-type {\n",
       "        vertical-align: middle;\n",
       "    }\n",
       "\n",
       "    .dataframe tbody tr th {\n",
       "        vertical-align: top;\n",
       "    }\n",
       "\n",
       "    .dataframe thead th {\n",
       "        text-align: right;\n",
       "    }\n",
       "</style>\n",
       "<table border=\"1\" class=\"dataframe\">\n",
       "  <thead>\n",
       "    <tr style=\"text-align: right;\">\n",
       "      <th></th>\n",
       "      <th>Survived</th>\n",
       "      <th>Pclass</th>\n",
       "      <th>Sex</th>\n",
       "      <th>Age</th>\n",
       "      <th>SibSp</th>\n",
       "      <th>Parch</th>\n",
       "      <th>Ticket</th>\n",
       "      <th>Fare</th>\n",
       "      <th>Cabin</th>\n",
       "      <th>Embarked</th>\n",
       "      <th>Hometown</th>\n",
       "      <th>Boarded</th>\n",
       "      <th>Destination</th>\n",
       "      <th>Lifeboat</th>\n",
       "      <th>Title</th>\n",
       "    </tr>\n",
       "  </thead>\n",
       "  <tbody>\n",
       "    <tr>\n",
       "      <th>1043</th>\n",
       "      <td>NaN</td>\n",
       "      <td>3</td>\n",
       "      <td>male</td>\n",
       "      <td>60.5</td>\n",
       "      <td>0</td>\n",
       "      <td>0</td>\n",
       "      <td>3701</td>\n",
       "      <td>NaN</td>\n",
       "      <td>NaN</td>\n",
       "      <td>S</td>\n",
       "      <td>Liverpool, Merseyside, England,</td>\n",
       "      <td>Southampton</td>\n",
       "      <td>New York City</td>\n",
       "      <td>NaN</td>\n",
       "      <td>Mr</td>\n",
       "    </tr>\n",
       "  </tbody>\n",
       "</table>\n",
       "</div>"
      ],
      "text/plain": [
       "      Survived  Pclass   Sex   Age  SibSp  Parch Ticket  Fare Cabin Embarked  \\\n",
       "1043       NaN       3  male  60.5      0      0   3701   NaN   NaN        S   \n",
       "\n",
       "                             Hometown      Boarded    Destination Lifeboat  \\\n",
       "1043  Liverpool, Merseyside, England,  Southampton  New York City      NaN   \n",
       "\n",
       "     Title  \n",
       "1043    Mr  "
      ]
     },
     "execution_count": 356,
     "metadata": {},
     "output_type": "execute_result"
    }
   ],
   "source": [
    "df[df['Fare'].isnull()]"
   ]
  },
  {
   "cell_type": "markdown",
   "metadata": {},
   "source": [
    "# Fare vs. Class"
   ]
  },
  {
   "cell_type": "code",
   "execution_count": 357,
   "metadata": {},
   "outputs": [
    {
     "data": {
      "text/plain": [
       "<seaborn.axisgrid.FacetGrid at 0x1b364059d60>"
      ]
     },
     "execution_count": 357,
     "metadata": {},
     "output_type": "execute_result"
    },
    {
     "data": {
      "image/png": "[encoded data removed]",
      "text/plain": [
       "<Figure size 648x216 with 3 Axes>"
      ]
     },
     "metadata": {
      "needs_background": "light"
     },
     "output_type": "display_data"
    }
   ],
   "source": [
    "g=sns.FacetGrid(df,col='Pclass')\n",
    "g.map_dataframe(sns.boxplot, x=\"Fare\")"
   ]
  },
  {
   "cell_type": "markdown",
   "metadata": {},
   "source": [
    "It can be seen that the Fare of First class is higher when comapred with 2nd and 3rd class"
   ]
  },
  {
   "cell_type": "markdown",
   "metadata": {},
   "source": [
    "# Fare vs. Sex"
   ]
  },
  {
   "cell_type": "code",
   "execution_count": 358,
   "metadata": {},
   "outputs": [
    {
     "data": {
      "text/plain": [
       "<seaborn.axisgrid.FacetGrid at 0x1b3643dd340>"
      ]
     },
     "execution_count": 358,
     "metadata": {},
     "output_type": "execute_result"
    },
    {
     "data": {
      "image/png": "[encoded data removed]",
      "text/plain": [
       "<Figure size 432x216 with 2 Axes>"
      ]
     },
     "metadata": {
      "needs_background": "light"
     },
     "output_type": "display_data"
    }
   ],
   "source": [
    "g=sns.FacetGrid(df,col='Sex')\n",
    "g.map_dataframe(sns.boxplot, x=\"Fare\")"
   ]
  },
  {
   "cell_type": "markdown",
   "metadata": {},
   "source": [
    "There is a significant difference in fare between between males and females"
   ]
  },
  {
   "cell_type": "markdown",
   "metadata": {},
   "source": [
    "# Fare vs. title\n"
   ]
  },
  {
   "cell_type": "code",
   "execution_count": 359,
   "metadata": {},
   "outputs": [
    {
     "data": {
      "text/plain": [
       "<seaborn.axisgrid.FacetGrid at 0x1b3654652e0>"
      ]
     },
     "execution_count": 359,
     "metadata": {},
     "output_type": "execute_result"
    },
    {
     "data": {
      "image/png": "[encoded data removed]",
      "text/plain": [
       "<Figure size 1080x216 with 5 Axes>"
      ]
     },
     "metadata": {
      "needs_background": "light"
     },
     "output_type": "display_data"
    }
   ],
   "source": [
    "g=sns.FacetGrid(df,col='Title')\n",
    "g.map_dataframe(sns.boxplot, x=\"Fare\")"
   ]
  },
  {
   "cell_type": "markdown",
   "metadata": {},
   "source": [
    "There is a significant difference in fare among different title categories"
   ]
  },
  {
   "cell_type": "markdown",
   "metadata": {},
   "source": [
    "# Fare vs Embarked"
   ]
  },
  {
   "cell_type": "code",
   "execution_count": 360,
   "metadata": {},
   "outputs": [
    {
     "data": {
      "text/plain": [
       "<seaborn.axisgrid.FacetGrid at 0x1b3656219d0>"
      ]
     },
     "execution_count": 360,
     "metadata": {},
     "output_type": "execute_result"
    },
    {
     "data": {
      "image/png": "[encoded data removed]",
      "text/plain": [
       "<Figure size 648x216 with 3 Axes>"
      ]
     },
     "metadata": {
      "needs_background": "light"
     },
     "output_type": "display_data"
    }
   ],
   "source": [
    "g=sns.FacetGrid(df,col='Embarked')\n",
    "g.map_dataframe(sns.boxplot, x=\"Fare\")"
   ]
  },
  {
   "cell_type": "markdown",
   "metadata": {},
   "source": [
    "The fare changes with embarked category as well "
   ]
  },
  {
   "cell_type": "markdown",
   "metadata": {},
   "source": [
    "Since fare changes with title,Sex, Class and embarked  when imputing a value to fare  these should be taken in to account "
   ]
  },
  {
   "cell_type": "code",
   "execution_count": 361,
   "metadata": {},
   "outputs": [
    {
     "data": {
      "text/plain": [
       "0"
      ]
     },
     "execution_count": 361,
     "metadata": {},
     "output_type": "execute_result"
    }
   ],
   "source": [
    "# median of Fare based on the following criteria\n",
    "med=df[(df['Title']=='Mr') & (df['Sex']=='male') & (df['Pclass']==3) & (df['Embarked']=='S')]['Fare'].median()\n",
    "\n",
    "# imputing the missing value with median \n",
    "df['Fare'].fillna(med,inplace=True)\n",
    "df.Fare.isnull().sum()\n"
   ]
  },
  {
   "cell_type": "markdown",
   "metadata": {},
   "source": [
    "# Fare vs. Survival"
   ]
  },
  {
   "cell_type": "code",
   "execution_count": 362,
   "metadata": {},
   "outputs": [
    {
     "data": {
      "text/plain": [
       "<seaborn.axisgrid.FacetGrid at 0x1b36573dd90>"
      ]
     },
     "execution_count": 362,
     "metadata": {},
     "output_type": "execute_result"
    },
    {
     "data": {
      "image/png": "[encoded data removed]",
      "text/plain": [
       "<Figure size 432x216 with 2 Axes>"
      ]
     },
     "metadata": {
      "needs_background": "light"
     },
     "output_type": "display_data"
    }
   ],
   "source": [
    "g=sns.FacetGrid(df,col='Survived')\n",
    "g.map_dataframe(sns.histplot, x=\"Fare\")"
   ]
  },
  {
   "cell_type": "markdown",
   "metadata": {},
   "source": [
    "The large number of people with low fare has not survived and a larger number of people with high fare has survived when compared with those who have not survived"
   ]
  },
  {
   "cell_type": "code",
   "execution_count": 363,
   "metadata": {},
   "outputs": [
    {
     "data": {
      "text/plain": [
       "<AxesSubplot:xlabel='Fare', ylabel='Survived'>"
      ]
     },
     "execution_count": 363,
     "metadata": {},
     "output_type": "execute_result"
    },
    {
     "data": {
      "image/png": "[encoded data removed]",
      "text/plain": [
       "<Figure size 432x288 with 1 Axes>"
      ]
     },
     "metadata": {
      "needs_background": "light"
     },
     "output_type": "display_data"
    }
   ],
   "source": [
    "sns.scatterplot(x='Fare',y='Survived',data=df)"
   ]
  },
  {
   "cell_type": "markdown",
   "metadata": {},
   "source": [
    "When the scatter plot is checked a clear pattern cannot be seen between survival and fare"
   ]
  },
  {
   "cell_type": "markdown",
   "metadata": {},
   "source": [
    "# Mean fare price by passenger class "
   ]
  },
  {
   "cell_type": "code",
   "execution_count": 364,
   "metadata": {},
   "outputs": [
    {
     "data": {
      "text/plain": [
       "<AxesSubplot:xlabel='Pclass'>"
      ]
     },
     "execution_count": 364,
     "metadata": {},
     "output_type": "execute_result"
    },
    {
     "data": {
      "image/png": "[encoded data removed]",
      "text/plain": [
       "<Figure size 432x288 with 1 Axes>"
      ]
     },
     "metadata": {
      "needs_background": "light"
     },
     "output_type": "display_data"
    }
   ],
   "source": [
    "# Plot showing the mean fare price of each passenger class\n",
    "df.groupby('Pclass').Fare.mean().plot(kind='bar')\n"
   ]
  },
  {
   "cell_type": "markdown",
   "metadata": {},
   "source": [
    "It is obvious that the mean fare is higher for first class and secondly for seconf class and finally for 3rd class.Since the fare price represent the same information of passengers economic status it will be removed from the study \n",
    "\n",
    "# Drop Fare"
   ]
  },
  {
   "cell_type": "code",
   "execution_count": 365,
   "metadata": {},
   "outputs": [],
   "source": [
    "df.drop(columns='Fare',axis=1,inplace=True)"
   ]
  },
  {
   "cell_type": "code",
   "execution_count": 366,
   "metadata": {},
   "outputs": [
    {
     "data": {
      "text/plain": [
       "Index(['Survived', 'Pclass', 'Sex', 'Age', 'SibSp', 'Parch', 'Ticket', 'Cabin',\n",
       "       'Embarked', 'Hometown', 'Boarded', 'Destination', 'Lifeboat', 'Title'],\n",
       "      dtype='object')"
      ]
     },
     "execution_count": 366,
     "metadata": {},
     "output_type": "execute_result"
    }
   ],
   "source": [
    "df.columns"
   ]
  },
  {
   "cell_type": "markdown",
   "metadata": {},
   "source": [
    "# Cabin Variable"
   ]
  },
  {
   "cell_type": "code",
   "execution_count": 367,
   "metadata": {},
   "outputs": [
    {
     "data": {
      "text/plain": [
       "array([nan, 'C85', 'C123', 'E46', 'G6', 'C103', 'D56', 'A6',\n",
       "       'C23 C25 C27', 'B78', 'D33', 'B30', 'C52', 'B28', 'C83', 'F33',\n",
       "       'F G73', 'E31', 'A5', 'D10 D12', 'D26', 'C110', 'B58 B60', 'E101',\n",
       "       'F E69', 'D47', 'B86', 'F2', 'C2', 'E33', 'B19', 'A7', 'C49', 'F4',\n",
       "       'A32', 'B4', 'B80', 'A31', 'D36', 'D15', 'C93', 'C78', 'D35',\n",
       "       'C87', 'B77', 'E67', 'B94', 'C125', 'C99', 'C118', 'D7', 'A19',\n",
       "       'B49', 'D', 'C22 C26', 'C106', 'C65', 'E36', 'C54',\n",
       "       'B57 B59 B63 B66', 'C7', 'E34', 'C32', 'B18', 'C124', 'C91', 'E40',\n",
       "       'T', 'C128', 'D37', 'B35', 'E50', 'C82', 'B96 B98', 'E10', 'E44',\n",
       "       'A34', 'C104', 'C111', 'C92', 'E38', 'D21', 'E12', 'E63', 'A14',\n",
       "       'B37', 'C30', 'D20', 'B79', 'E25', 'D46', 'B73', 'C95', 'B38',\n",
       "       'B39', 'B22', 'C86', 'C70', 'A16', 'C101', 'C68', 'A10', 'E68',\n",
       "       'B41', 'A20', 'D19', 'D50', 'D9', 'A23', 'B50', 'A26', 'D48',\n",
       "       'E58', 'C126', 'B71', 'B51 B53 B55', 'D49', 'B5', 'B20', 'F G63',\n",
       "       'C62 C64', 'E24', 'C90', 'C45', 'E8', 'B101', 'D45', 'C46', 'D30',\n",
       "       'E121', 'D11', 'E77', 'F38', 'B3', 'D6', 'B82 B84', 'D17', 'A36',\n",
       "       'B102', 'B69', 'E49', 'C47', 'D28', 'E17', 'A24', 'C50', 'B42',\n",
       "       'C148', 'B45', 'B36', 'A21', 'D34', 'A9', 'C31', 'B61', 'C53',\n",
       "       'D43', 'C130', 'C132', 'C55 C57', 'C116', 'F', 'A29', 'C6', 'C28',\n",
       "       'C51', 'C97', 'D22', 'B10', 'E45', 'E52', 'A11', 'B11', 'C80',\n",
       "       'C89', 'F E46', 'B26', 'F E57', 'A18', 'E60', 'E39 E41',\n",
       "       'B52 B54 B56', 'C39', 'B24', 'D40', 'D38', 'C105'], dtype=object)"
      ]
     },
     "execution_count": 367,
     "metadata": {},
     "output_type": "execute_result"
    }
   ],
   "source": [
    "df['Cabin'].unique()"
   ]
  },
  {
   "cell_type": "markdown",
   "metadata": {},
   "source": [
    "Here it can be seen that the first letter of the cabin contains and alphabetical letter from A,B,C,D,E,F,G. The rest can be . some room numbers. by domain knowledge it can be infered that the first letter represents the floor letter. where A is the first floor and g the the bottom floor . "
   ]
  },
  {
   "cell_type": "code",
   "execution_count": 368,
   "metadata": {},
   "outputs": [
    {
     "data": {
      "text/plain": [
       "1014"
      ]
     },
     "execution_count": 368,
     "metadata": {},
     "output_type": "execute_result"
    }
   ],
   "source": [
    "df['Cabin'].isnull().sum()"
   ]
  },
  {
   "cell_type": "code",
   "execution_count": 369,
   "metadata": {},
   "outputs": [
    {
     "name": "stdout",
     "output_type": "stream",
     "text": [
      "(1309, 14)\n",
      "Total missing percentage of Cabin :  77.46371275783041\n"
     ]
    }
   ],
   "source": [
    "print(df.shape)\n",
    "print('Total missing percentage of Cabin : ', (1014/1309)*100)"
   ]
  },
  {
   "cell_type": "markdown",
   "metadata": {},
   "source": [
    "Around 77% of the data in cabin variable is missing"
   ]
  },
  {
   "cell_type": "markdown",
   "metadata": {},
   "source": [
    "# Extracting first letter from Cabin variable "
   ]
  },
  {
   "cell_type": "code",
   "execution_count": 370,
   "metadata": {},
   "outputs": [
    {
     "name": "stdout",
     "output_type": "stream",
     "text": [
      "[nan 'C' 'E' 'G' 'D' 'A' 'B' 'F' 'T']\n",
      "C    94\n",
      "B    65\n",
      "D    46\n",
      "E    41\n",
      "A    22\n",
      "F    21\n",
      "G     5\n",
      "T     1\n",
      "Name: floor, dtype: int64\n"
     ]
    }
   ],
   "source": [
    "df['floor']=df['Cabin'].apply(lambda x:x[0] if x is not np.nan else np.nan )\n",
    "\n",
    "print(df['floor'].unique())\n",
    "print(df['floor'].value_counts())\n"
   ]
  },
  {
   "cell_type": "markdown",
   "metadata": {},
   "source": [
    "The missing values should be imputed. and also there is a missspelt category T which needs to be corrected "
   ]
  },
  {
   "cell_type": "code",
   "execution_count": 371,
   "metadata": {},
   "outputs": [
    {
     "name": "stderr",
     "output_type": "stream",
     "text": [
      "C:\\Users\\Azfa Razzaq\\anaconda3\\lib\\site-packages\\seaborn\\categorical.py:3704: UserWarning: The `factorplot` function has been renamed to `catplot`. The original name will be removed in a future release. Please update your code. Note that the default `kind` in `factorplot` (`'point'`) has changed `'strip'` in `catplot`.\n",
      "  warnings.warn(msg)\n"
     ]
    },
    {
     "data": {
      "image/png": "[encoded data removed]",
      "text/plain": [
       "<Figure size 360x360 with 1 Axes>"
      ]
     },
     "metadata": {
      "needs_background": "light"
     },
     "output_type": "display_data"
    }
   ],
   "source": [
    "sns.factorplot(x='floor', y='Survived', data=df, kind=\"bar\", ci=None)\n",
    "plt.xlabel('floor')\n",
    "plt.ylabel('Survival Probability')\n",
    "plt.show()"
   ]
  },
  {
   "cell_type": "markdown",
   "metadata": {},
   "source": [
    "The Survival rate of the floor doesnot show a clear pattern eventhough A is in the top most floor and B is in the second the survival rate of B, E higher than A . therefore meaningfull information cannot be taken based on floor value . This should be further confirmed by plotting survival against sex "
   ]
  },
  {
   "cell_type": "code",
   "execution_count": 372,
   "metadata": {},
   "outputs": [
    {
     "name": "stderr",
     "output_type": "stream",
     "text": [
      "C:\\Users\\Azfa Razzaq\\anaconda3\\lib\\site-packages\\seaborn\\categorical.py:3704: UserWarning: The `factorplot` function has been renamed to `catplot`. The original name will be removed in a future release. Please update your code. Note that the default `kind` in `factorplot` (`'point'`) has changed `'strip'` in `catplot`.\n",
      "  warnings.warn(msg)\n"
     ]
    },
    {
     "data": {
      "text/plain": [
       "<seaborn.axisgrid.FacetGrid at 0x1b36598f640>"
      ]
     },
     "execution_count": 372,
     "metadata": {},
     "output_type": "execute_result"
    },
    {
     "data": {
      "image/png": "[encoded data removed]",
      "text/plain": [
       "<Figure size 430.5x360 with 1 Axes>"
      ]
     },
     "metadata": {
      "needs_background": "light"
     },
     "output_type": "display_data"
    }
   ],
   "source": [
    "sns.factorplot(data=df, x='floor', y='Survived', hue='Sex', kind=\"bar\", ci=None)"
   ]
  },
  {
   "cell_type": "markdown",
   "metadata": {},
   "source": [
    "Here it can be seen that no matter what the floor is the survival prob is higher for females than males"
   ]
  },
  {
   "cell_type": "markdown",
   "metadata": {},
   "source": [
    "Therefore floor and Cabin variables can be removed from the dataset \n",
    "\n",
    "# Drop floor and cabin"
   ]
  },
  {
   "cell_type": "code",
   "execution_count": 373,
   "metadata": {},
   "outputs": [
    {
     "data": {
      "text/plain": [
       "Index(['Survived', 'Pclass', 'Sex', 'Age', 'SibSp', 'Parch', 'Ticket',\n",
       "       'Embarked', 'Hometown', 'Boarded', 'Destination', 'Lifeboat', 'Title'],\n",
       "      dtype='object')"
      ]
     },
     "execution_count": 373,
     "metadata": {},
     "output_type": "execute_result"
    }
   ],
   "source": [
    "df.drop(columns=['floor','Cabin'], axis=1, inplace=True)\n",
    "df.columns"
   ]
  },
  {
   "cell_type": "markdown",
   "metadata": {},
   "source": [
    "# Embarked vs. boarded"
   ]
  },
  {
   "cell_type": "code",
   "execution_count": 374,
   "metadata": {},
   "outputs": [
    {
     "data": {
      "text/html": [
       "<div>\n",
       "<style scoped>\n",
       "    .dataframe tbody tr th:only-of-type {\n",
       "        vertical-align: middle;\n",
       "    }\n",
       "\n",
       "    .dataframe tbody tr th {\n",
       "        vertical-align: top;\n",
       "    }\n",
       "\n",
       "    .dataframe thead th {\n",
       "        text-align: right;\n",
       "    }\n",
       "</style>\n",
       "<table border=\"1\" class=\"dataframe\">\n",
       "  <thead>\n",
       "    <tr style=\"text-align: right;\">\n",
       "      <th></th>\n",
       "      <th>Embarked</th>\n",
       "      <th>Boarded</th>\n",
       "    </tr>\n",
       "  </thead>\n",
       "  <tbody>\n",
       "    <tr>\n",
       "      <th>0</th>\n",
       "      <td>S</td>\n",
       "      <td>Southampton</td>\n",
       "    </tr>\n",
       "    <tr>\n",
       "      <th>1</th>\n",
       "      <td>C</td>\n",
       "      <td>Cherbourg</td>\n",
       "    </tr>\n",
       "    <tr>\n",
       "      <th>2</th>\n",
       "      <td>S</td>\n",
       "      <td>Southampton</td>\n",
       "    </tr>\n",
       "    <tr>\n",
       "      <th>3</th>\n",
       "      <td>S</td>\n",
       "      <td>Southampton</td>\n",
       "    </tr>\n",
       "    <tr>\n",
       "      <th>4</th>\n",
       "      <td>S</td>\n",
       "      <td>Southampton</td>\n",
       "    </tr>\n",
       "    <tr>\n",
       "      <th>...</th>\n",
       "      <td>...</td>\n",
       "      <td>...</td>\n",
       "    </tr>\n",
       "    <tr>\n",
       "      <th>1304</th>\n",
       "      <td>S</td>\n",
       "      <td>Southampton</td>\n",
       "    </tr>\n",
       "    <tr>\n",
       "      <th>1305</th>\n",
       "      <td>C</td>\n",
       "      <td>Cherbourg</td>\n",
       "    </tr>\n",
       "    <tr>\n",
       "      <th>1306</th>\n",
       "      <td>S</td>\n",
       "      <td>Southampton</td>\n",
       "    </tr>\n",
       "    <tr>\n",
       "      <th>1307</th>\n",
       "      <td>S</td>\n",
       "      <td>Southampton</td>\n",
       "    </tr>\n",
       "    <tr>\n",
       "      <th>1308</th>\n",
       "      <td>C</td>\n",
       "      <td>Cherbourg</td>\n",
       "    </tr>\n",
       "  </tbody>\n",
       "</table>\n",
       "<p>1309 rows × 2 columns</p>\n",
       "</div>"
      ],
      "text/plain": [
       "     Embarked      Boarded\n",
       "0           S  Southampton\n",
       "1           C    Cherbourg\n",
       "2           S  Southampton\n",
       "3           S  Southampton\n",
       "4           S  Southampton\n",
       "...       ...          ...\n",
       "1304        S  Southampton\n",
       "1305        C    Cherbourg\n",
       "1306        S  Southampton\n",
       "1307        S  Southampton\n",
       "1308        C    Cherbourg\n",
       "\n",
       "[1309 rows x 2 columns]"
      ]
     },
     "execution_count": 374,
     "metadata": {},
     "output_type": "execute_result"
    }
   ],
   "source": [
    "df[['Embarked','Boarded']]"
   ]
  },
  {
   "cell_type": "markdown",
   "metadata": {},
   "source": [
    "It can be seen that both Embarked and boarded are same. The first letter of Boarded is given for Embarked. Therefore one column can be removed \n",
    "\n",
    "Embarked has 2 missing values while boarded has 5 missing values. Therefore boarded will be dropped\n"
   ]
  },
  {
   "cell_type": "markdown",
   "metadata": {},
   "source": [
    "# Drop Boarded"
   ]
  },
  {
   "cell_type": "code",
   "execution_count": 375,
   "metadata": {},
   "outputs": [
    {
     "data": {
      "text/plain": [
       "Index(['Survived', 'Pclass', 'Sex', 'Age', 'SibSp', 'Parch', 'Ticket',\n",
       "       'Embarked', 'Hometown', 'Destination', 'Lifeboat', 'Title'],\n",
       "      dtype='object')"
      ]
     },
     "execution_count": 375,
     "metadata": {},
     "output_type": "execute_result"
    }
   ],
   "source": [
    "df.drop(columns='Boarded',axis=1,inplace=True)\n",
    "df.columns"
   ]
  },
  {
   "cell_type": "markdown",
   "metadata": {},
   "source": [
    "# Ticket variable"
   ]
  },
  {
   "cell_type": "code",
   "execution_count": 376,
   "metadata": {},
   "outputs": [
    {
     "data": {
      "text/plain": [
       "array(['A/5 21171', 'PC 17599', 'STON/O2. 3101282', '113803', '373450',\n",
       "       '330877', '17463', '349909', '347742', '237736', 'PP 9549',\n",
       "       '113783', 'A/5. 2151', '347082', '350406', '248706', '382652',\n",
       "       '244373', '345763', '2649', '239865', '248698', '330923', '113788',\n",
       "       '347077', '2631', '19950', '330959', '349216', 'PC 17601',\n",
       "       'PC 17569', '335677', 'C.A. 24579', 'PC 17604', '113789', '2677',\n",
       "       'A./5. 2152', '345764', '2651', '7546', '11668', '349253',\n",
       "       'SC/Paris 2123', '330958', 'S.C./A.4. 23567', '370371', '14311',\n",
       "       '2662', '349237', '3101295', 'A/4. 39886', 'PC 17572', '2926',\n",
       "       '113509', '19947', 'C.A. 31026', '2697', 'C.A. 34651', 'CA 2144',\n",
       "       '2669', '113572', '36973', '347088', 'PC 17605', '2661',\n",
       "       'C.A. 29395', 'S.P. 3464', '3101281', '315151', 'C.A. 33111',\n",
       "       'S.O.C. 14879', '2680', '1601', '348123', '349208', '374746',\n",
       "       '248738', '364516', '345767', '345779', '330932', '113059',\n",
       "       'SO/C 14885', '3101278', 'W./C. 6608', 'SOTON/OQ 392086', '343275',\n",
       "       '343276', '347466', 'W.E.P. 5734', 'C.A. 2315', '364500', '374910',\n",
       "       'PC 17754', 'PC 17759', '231919', '244367', '349245', '349215',\n",
       "       '35281', '7540', '3101276', '349207', '343120', '312991', '349249',\n",
       "       '371110', '110465', '2665', '324669', '4136', '2627',\n",
       "       'STON/O 2. 3101294', '370369', 'PC 17558', 'A4. 54510', '27267',\n",
       "       '370372', 'C 17369', '2668', '347061', '349241',\n",
       "       'SOTON/O.Q. 3101307', 'A/5. 3337', '228414', 'C.A. 29178',\n",
       "       'SC/PARIS 2133', '11752', '7534', 'PC 17593', '2678', '347081',\n",
       "       'STON/O2. 3101279', '365222', '231945', 'C.A. 33112', '350043',\n",
       "       '230080', '244310', 'S.O.P. 1166', '113776', 'A.5. 11206',\n",
       "       'A/5. 851', 'Fa 265302', 'PC 17597', '35851', 'SOTON/OQ 392090',\n",
       "       '315037', 'CA. 2343', '371362', 'C.A. 33595', '347068', '315093',\n",
       "       '363291', '113505', 'PC 17318', '111240', 'STON/O 2. 3101280',\n",
       "       '17764', '350404', '4133', 'PC 17595', '250653', 'LINE',\n",
       "       'SC/PARIS 2131', '230136', '315153', '113767', '370365', '111428',\n",
       "       '364849', '349247', '234604', '28424', '350046', 'PC 17610',\n",
       "       '368703', '4579', '370370', '248747', '345770', '3101264', '2628',\n",
       "       'A/5 3540', '347054', '2699', '367231', '112277',\n",
       "       'SOTON/O.Q. 3101311', 'F.C.C. 13528', 'A/5 21174', '250646',\n",
       "       '367229', '35273', 'STON/O2. 3101283', '243847', '11813',\n",
       "       'W/C 14208', 'SOTON/OQ 392089', '220367', '21440', '349234',\n",
       "       '19943', 'PP 4348', 'SW/PP 751', 'A/5 21173', '236171', '347067',\n",
       "       '237442', 'C.A. 29566', 'W./C. 6609', '26707', 'C.A. 31921',\n",
       "       '28665', 'SCO/W 1585', '367230', 'W./C. 14263',\n",
       "       'STON/O 2. 3101275', '2694', '19928', '347071', '250649', '11751',\n",
       "       '244252', '362316', '113514', 'A/5. 3336', '370129', '2650',\n",
       "       'PC 17585', '110152', 'PC 17755', '230433', '384461', '110413',\n",
       "       '112059', '382649', 'C.A. 17248', '347083', 'PC 17582', 'PC 17760',\n",
       "       '113798', '250644', 'PC 17596', '370375', '13502', '347073',\n",
       "       '239853', 'C.A. 2673', '336439', '347464', '345778', 'A/5. 10482',\n",
       "       '113056', '349239', '345774', '349206', '237798', '370373',\n",
       "       '19877', '11967', 'SC/Paris 2163', '349236', '349233', 'PC 17612',\n",
       "       '2693', '113781', '19988', '9234', '367226', '226593', 'A/5 2466',\n",
       "       '17421', 'PC 17758', 'P/PP 3381', 'PC 17485', '11767', 'PC 17608',\n",
       "       '250651', '349243', 'F.C.C. 13529', '347470', '29011', '36928',\n",
       "       '16966', 'A/5 21172', '349219', '234818', '345364', '28551',\n",
       "       '111361', '113043', 'PC 17611', '349225', '7598', '113784',\n",
       "       '248740', '244361', '229236', '248733', '31418', '386525',\n",
       "       'C.A. 37671', '315088', '7267', '113510', '2695', '2647', '345783',\n",
       "       '237671', '330931', '330980', 'SC/PARIS 2167', '2691',\n",
       "       'SOTON/O.Q. 3101310', 'C 7076', '110813', '2626', '14313',\n",
       "       'PC 17477', '11765', '3101267', '323951', 'C 7077', '113503',\n",
       "       '2648', '347069', 'PC 17757', '2653', 'STON/O 2. 3101293',\n",
       "       '349227', '27849', '367655', 'SC 1748', '113760', '350034',\n",
       "       '3101277', '350052', '350407', '28403', '244278', '240929',\n",
       "       'STON/O 2. 3101289', '341826', '4137', '315096', '28664', '347064',\n",
       "       '29106', '312992', '349222', '394140', 'STON/O 2. 3101269',\n",
       "       '343095', '28220', '250652', '28228', '345773', '349254',\n",
       "       'A/5. 13032', '315082', '347080', 'A/4. 34244', '2003', '250655',\n",
       "       '364851', 'SOTON/O.Q. 392078', '110564', '376564', 'SC/AH 3085',\n",
       "       'STON/O 2. 3101274', '13507', 'C.A. 18723', '345769', '347076',\n",
       "       '230434', '65306', '33638', '113794', '2666', '113786', '65303',\n",
       "       '113051', '17453', 'A/5 2817', '349240', '13509', '17464',\n",
       "       'F.C.C. 13531', '371060', '19952', '364506', '111320', '234360',\n",
       "       'A/S 2816', 'SOTON/O.Q. 3101306', '113792', '36209', '323592',\n",
       "       '315089', 'SC/AH Basle 541', '7553', '31027', '3460', '350060',\n",
       "       '3101298', '239854', 'A/5 3594', '4134', '11771', 'A.5. 18509',\n",
       "       '65304', 'SOTON/OQ 3101317', '113787', 'PC 17609', 'A/4 45380',\n",
       "       '36947', 'C.A. 6212', '350035', '315086', '364846', '330909',\n",
       "       '4135', '26360', '111427', 'C 4001', '382651', 'SOTON/OQ 3101316',\n",
       "       'PC 17473', 'PC 17603', '349209', '36967', 'C.A. 34260', '226875',\n",
       "       '349242', '12749', '349252', '2624', '2700', '367232',\n",
       "       'W./C. 14258', 'PC 17483', '3101296', '29104', '2641', '2690',\n",
       "       '315084', '113050', 'PC 17761', '364498', '13568', 'WE/P 5735',\n",
       "       '2908', '693', 'SC/PARIS 2146', '244358', '330979', '2620',\n",
       "       '347085', '113807', '11755', '345572', '372622', '349251',\n",
       "       '218629', 'SOTON/OQ 392082', 'SOTON/O.Q. 392087', 'A/4 48871',\n",
       "       '349205', '2686', '350417', 'S.W./PP 752', '11769', 'PC 17474',\n",
       "       '14312', 'A/4. 20589', '358585', '243880', '2689',\n",
       "       'STON/O 2. 3101286', '237789', '13049', '3411', '237565', '13567',\n",
       "       '14973', 'A./5. 3235', 'STON/O 2. 3101273', 'A/5 3902', '364848',\n",
       "       'SC/AH 29037', '248727', '2664', '349214', '113796', '364511',\n",
       "       '111426', '349910', '349246', '113804', 'SOTON/O.Q. 3101305',\n",
       "       '370377', '364512', '220845', '31028', '2659', '11753', '350029',\n",
       "       '54636', '36963', '219533', '349224', '334912', '27042', '347743',\n",
       "       '13214', '112052', '237668', 'STON/O 2. 3101292', '350050',\n",
       "       '349231', '13213', 'S.O./P.P. 751', 'CA. 2314', '349221', '8475',\n",
       "       '330919', '365226', '349223', '29751', '2623', '5727', '349210',\n",
       "       'STON/O 2. 3101285', '234686', '312993', 'A/5 3536', '19996',\n",
       "       '29750', 'F.C. 12750', 'C.A. 24580', '244270', '239856', '349912',\n",
       "       '342826', '4138', '330935', '6563', '349228', '350036', '24160',\n",
       "       '17474', '349256', '2672', '113800', '248731', '363592', '35852',\n",
       "       '348121', 'PC 17475', '36864', '350025', '223596', 'PC 17476',\n",
       "       'PC 17482', '113028', '7545', '250647', '348124', '34218', '36568',\n",
       "       '347062', '350048', '12233', '250643', '113806', '315094', '36866',\n",
       "       '236853', 'STON/O2. 3101271', '239855', '28425', '233639',\n",
       "       '349201', '349218', '16988', '376566', 'STON/O 2. 3101288',\n",
       "       '250648', '113773', '335097', '29103', '392096', '345780',\n",
       "       '349204', '350042', '29108', '363294', 'SOTON/O2 3101272', '2663',\n",
       "       '347074', '112379', '364850', '8471', '345781', '350047',\n",
       "       'S.O./P.P. 3', '2674', '29105', '347078', '383121', '36865',\n",
       "       '2687', '113501', 'W./C. 6607', 'SOTON/O.Q. 3101312', '374887',\n",
       "       '3101265', '12460', 'PC 17600', '349203', '28213', '17465',\n",
       "       '349244', '2685', '2625', '347089', '347063', '112050', '347087',\n",
       "       '248723', '3474', '28206', '364499', '112058', 'STON/O2. 3101290',\n",
       "       'S.C./PARIS 2079', 'C 7075', '315098', '19972', '368323', '367228',\n",
       "       '2671', '347468', '2223', 'PC 17756', '315097', '392092', '11774',\n",
       "       'SOTON/O2 3101287', '2683', '315090', 'C.A. 5547', '349213',\n",
       "       '347060', 'PC 17592', '392091', '113055', '2629', '350026',\n",
       "       '28134', '17466', '233866', '236852', 'SC/PARIS 2149', 'PC 17590',\n",
       "       '345777', '349248', '695', '345765', '2667', '349212', '349217',\n",
       "       '349257', '7552', 'C.A./SOTON 34068', 'SOTON/OQ 392076', '211536',\n",
       "       '112053', '111369', '370376', '330911', '363272', '240276',\n",
       "       '315154', '7538', '330972', '2657', '349220', '694', '21228',\n",
       "       '24065', '233734', '2692', 'STON/O2. 3101270', '2696', 'C 17368',\n",
       "       'PC 17598', '2698', '113054', 'C.A. 31029', '13236', '2682',\n",
       "       '342712', '315087', '345768', '113778', 'SOTON/O.Q. 3101263',\n",
       "       '237249', 'STON/O 2. 3101291', 'PC 17594', '370374', '13695',\n",
       "       'SC/PARIS 2168', 'SC/A.3 2861', '349230', '348122', '349232',\n",
       "       '237216', '347090', '334914', 'F.C.C. 13534', '330963', '2543',\n",
       "       '382653', '349211', '3101297', 'PC 17562', '359306', '11770',\n",
       "       '248744', '368702', '19924', '349238', '240261', '2660', '330844',\n",
       "       'A/4 31416', '364856', '347072', '345498', '376563', '13905',\n",
       "       '350033', 'STON/O 2. 3101268', '347471', 'A./5. 3338', '11778',\n",
       "       '365235', '347070', '330920', '383162', '3410', '248734', '237734',\n",
       "       '330968', 'PC 17531', '329944', '2681', '13050', '367227',\n",
       "       '392095', '368783', '350045', '211535', '342441',\n",
       "       'STON/OQ. 369943', '113780', '2621', '349226', '350409', '2656',\n",
       "       '248659', 'SOTON/OQ 392083', '17475', 'SC/A4 23568', '113791',\n",
       "       '349255', '3701', '350405', 'S.O./P.P. 752', '347469', '110489',\n",
       "       'SOTON/O.Q. 3101315', '335432', '220844', '343271', '237393',\n",
       "       'PC 17591', '17770', '7548', 'S.O./P.P. 251', '2670', '2673',\n",
       "       '233478', '7935', '239059', 'S.O./P.P. 2', 'A/4 48873', '28221',\n",
       "       '111163', '235509', '347465', '347066', 'C.A. 31030', '65305',\n",
       "       'C.A. 34050', 'F.C. 12998', '9232', '28034', 'PC 17613', '349250',\n",
       "       'SOTON/O.Q. 3101308', '347091', '113038', '330924', '32302',\n",
       "       'SC/PARIS 2148', '342684', 'W./C. 14266', '350053', 'PC 17606',\n",
       "       '350054', '370368', '242963', '113795', '3101266', '330971',\n",
       "       '350416', '2679', '250650', '112377', '3470', 'SOTON/O2 3101284',\n",
       "       '13508', '7266', '345775', 'C.A. 42795', 'AQ/4 3130', '363611',\n",
       "       '28404', '345501', '350410', 'C.A. 34644', '349235', '112051',\n",
       "       'C.A. 49867', 'A. 2. 39186', '315095', '368573', '2676',\n",
       "       'SC 14888', 'CA 31352', 'W./C. 14260', '315085', '364859',\n",
       "       'A/5 21175', 'SOTON/O.Q. 3101314', '2655', 'A/5 1478', 'PC 17607',\n",
       "       '382650', '2652', '345771', '349202', '113801', '347467', '347079',\n",
       "       '237735', '315092', '383123', '112901', '315091', '2658',\n",
       "       'LP 1588', '368364', 'AQ/3. 30631', '28004', '350408', '347075',\n",
       "       '2654', '244368', '113790', 'SOTON/O.Q. 3101309', '236854',\n",
       "       'PC 17580', '2684', '349229', '110469', '244360', '2675', '2622',\n",
       "       'C.A. 15185', '350403', '348125', '237670', '2688', '248726',\n",
       "       'F.C.C. 13540', '113044', '1222', '368402', '315083', '112378',\n",
       "       'SC/PARIS 2147', '28133', '248746', '315152', '29107', '680',\n",
       "       '366713', '330910', 'SC/PARIS 2159', '349911', '244346', '364858',\n",
       "       'C.A. 30769', '371109', '347065', '21332', '17765',\n",
       "       'SC/PARIS 2166', '28666', '334915', '365237', '347086',\n",
       "       'A.5. 3236', 'SOTON/O.Q. 3101262', '359309'], dtype=object)"
      ]
     },
     "execution_count": 376,
     "metadata": {},
     "output_type": "execute_result"
    }
   ],
   "source": [
    "df['Ticket'].unique()"
   ]
  },
  {
   "cell_type": "markdown",
   "metadata": {},
   "source": [
    "The ticket variable does not provide much meaningfull information. therefore it can be dropped\n",
    "\n",
    "# Drop Ticket"
   ]
  },
  {
   "cell_type": "code",
   "execution_count": 377,
   "metadata": {
    "scrolled": true
   },
   "outputs": [
    {
     "data": {
      "text/plain": [
       "Index(['Survived', 'Pclass', 'Sex', 'Age', 'SibSp', 'Parch', 'Embarked',\n",
       "       'Hometown', 'Destination', 'Lifeboat', 'Title'],\n",
       "      dtype='object')"
      ]
     },
     "execution_count": 377,
     "metadata": {},
     "output_type": "execute_result"
    }
   ],
   "source": [
    "df.drop(columns='Ticket',axis=1, inplace=True)\n",
    "df.columns"
   ]
  },
  {
   "cell_type": "markdown",
   "metadata": {},
   "source": [
    "# Hometown & Desitination"
   ]
  },
  {
   "cell_type": "code",
   "execution_count": 378,
   "metadata": {},
   "outputs": [
    {
     "data": {
      "text/plain": [
       "array(['Bridgerule, Devon, England', 'New York, New York, US',\n",
       "       'Jyväskylä, Finland', 'Scituate, Massachusetts, US',\n",
       "       'Birmingham, West Midlands, England', 'Cork, Ireland',\n",
       "       'Dorchester, Massachusetts, US', 'Bjuv, Skåne, Sweden',\n",
       "       'St. Charles, Illinois, US', 'Zahlé, Lebanon, Ottoman Empire',\n",
       "       'Motala, Östergötland, Sweden', 'Youngstown, Ohio, US',\n",
       "       'St Austell, Cornwall, England', 'Kisa, Östergötland, Sweden',\n",
       "       'Salmunds, Gotland, Sweden', 'Lucknow, British India, UK[note 3]',\n",
       "       'Athlone, Westmeath, Ireland', 'Harrow, London, England',\n",
       "       'Pittem, Belgium', 'Tebnine, Lebanon',\n",
       "       'Liverpool, Merseyside, England, UK', 'London, England, UK',\n",
       "       'Massbrook, Mayo, Ireland', 'New Britain, Connecticut, US',\n",
       "       'Alseda, Småland, Sweden', 'Hadath, Lebanon',\n",
       "       'Winnipeg, Manitoba, Canada', 'Limerick, Limerick, Ireland',\n",
       "       'Unknown, Bulgaria', 'Mexico City, Mexico',\n",
       "       'Killaloe, Clare, Ireland', 'Guernsey, Channel Islands',\n",
       "       'Tripoli, Lebanon', 'Penwithick, Cornwall, England',\n",
       "       'Zwevezele, Belgium', 'El-Hakour, Lebanon',\n",
       "       'Göteborg, Västergötland, Sweden', 'Plymouth, Devon, England',\n",
       "       'Vetren, Bulgaria', 'Paris, France', 'Kilmacowen, Sligo, Ireland',\n",
       "       'Pontardawe, West Glamorgan, Wales',\n",
       "       'Ballymahon, Longford, Ireland', 'Ballydehob, Cork, Ireland',\n",
       "       'Hardîne, Lebanon', 'Altdorf, Uri, Switzerland',\n",
       "       'Ylihärmä, South Ostrobothnia, Finland',\n",
       "       'Newton Abbot, Devon, England', 'Manchester, England',\n",
       "       'Providence, Rhode Island, US', 'Kafr Mishki, Lebanon',\n",
       "       'Bournemouth, Dorset, England', 'Fulham, England', 'Kiğı, Turkey',\n",
       "       'Hällekis, Västergötland, Sweden', 'Cincinnati, Ohio, US',\n",
       "       'East Orange, New Jersey, US', 'Bristol, Avon, England',\n",
       "       'Kullaa, Finland', 'Zürich, Switzerland',\n",
       "       'St. Ives, Cornwall, England', 'Fritham, Hampshire, England',\n",
       "       'Agios Sostis, Peloponnese, Greece', 'Hong Kong, China',\n",
       "       'Bergen, Norway', 'Debnevo, Troyan, Bulgaria', 'London, England',\n",
       "       'Bangkok, Siam', 'New York City, New York, US',\n",
       "       'Ruiselede, West Flanders, Belgium',\n",
       "       'Haaltert, East Flanders, Belgium', 'Lahardane, Mayo, Ireland',\n",
       "       'Montevideo, Uruguay', 'Jersey, Channel Islands', 'Kotka, Finland',\n",
       "       'Rotherfield, East Sussex, England', 'Milan[83], Italy',\n",
       "       'Kalfsnäs, Småland, Sweden', 'Amenia, North Dakota, US',\n",
       "       'Bartley Farm, Hampshire, England',\n",
       "       \"Heron's Ghyll, East Sussex, England\",\n",
       "       'Southampton, Hampshire, England, UK', 'Vitebsk, Russian Empire',\n",
       "       'Vagovina, Croatia', 'Belish, Troyan, Bulgaria',\n",
       "       'Brunswick, Maine, US', 'Bäckebo, Småland, Sweden',\n",
       "       'Ruotsinpyhtää, Finland', 'Gumostnik, Lovec, Bulgaria',\n",
       "       'Ålesund, Møre og Romsdal, Norway', 'Bosanska Krupa, Bosnia',\n",
       "       'Askeaton, Limerick, Ireland', 'Worcester, Massachusetts, US',\n",
       "       'Unknown, Syria', 'Cambridge, Cambridgeshire, England',\n",
       "       'Paavola, Northern Ostrobothnia, Finland', 'Beirut, Lebanon',\n",
       "       'Heinola, Finland', 'Charleville, Cork, Ireland',\n",
       "       'Montreal, Quebec, Canada',\n",
       "       'Kingston upon Thames, London, England',\n",
       "       'Zahlé, Lebanon, Ottoman Empire[note 7]',\n",
       "       'Bude, Cornwall, England', 'Craghbrien, Clare, Ireland',\n",
       "       'Trondheim, Norway', \"Sar'al, Syria[81]\",\n",
       "       'Effington Rut, South Dakota, US', 'Hrastelnica, Croatia',\n",
       "       'Funchal, Madeira Islands, Portugal',\n",
       "       'Bromsgrove, Worcestershire, England',\n",
       "       'Porthallow, Cornwall, England', 'Hedesunda, Gävleborg, Sweden',\n",
       "       'Unknown, Lebanon', 'Helsinki, Finland', 'Glanmire, Cork, Ireland',\n",
       "       'San Ambrosio, Córdoba, Argentina', 'Malmö, Skåne, Sweden',\n",
       "       'Nice, France', 'Jacksonville, Florida, US',\n",
       "       'Isleworth, London, England, UK', 'Sunnhordland, Norway',\n",
       "       'Geneva, Switzerland', 'Esker, Longford, Ireland',\n",
       "       'Pisac, Croatia', 'Peterborough, Cambridgeshire, England',\n",
       "       'Aberdeen, Aberdeenshire, Scotland',\n",
       "       'Fridhemsberg, Halland, Sweden', 'Brezik, Croatia',\n",
       "       'Strood, Kent, England',\n",
       "       'St Leonards-on-Sea, East Sussex, England, UK',\n",
       "       'Brooklyn, New York, US', 'Mountain Home, Idaho, US',\n",
       "       'Grimshut, Småland, Sweden', 'Liévin, Pas-de-Calais, France',\n",
       "       'Chicago, Illinois, US', 'Auburn, New York, US',\n",
       "       'Guntur, Madras Province, British India',\n",
       "       'Seattle, Washington, US', 'Pallasgreen, Limerick, Ireland',\n",
       "       'Carrowskehine, Mayo, Ireland', 'Bratina, Croatia',\n",
       "       'Eskilstrup, Denmark', 'Denver, Colorado, US',\n",
       "       'Ballywilliam, Wexford, Ireland', 'Westrozebeke, Belgium',\n",
       "       'Munsala, Finland', 'Indiana Harbor, Indiana, US',\n",
       "       'Fredericksburg, Virginia, US', 'Corglass, Longford, Ireland',\n",
       "       'Glen Ridge, New Jersey, US', 'Buenos Aires, Argentina',\n",
       "       'Holsworthy, Devon, England', 'Kølsen, Vorde Sogn, Denmark',\n",
       "       'Aughnacliffe, Longford, Ireland', 'Lexington, Massachusetts, US',\n",
       "       'Saarijärvi, Finland', 'Philadelphia, Pennsylvania, US',\n",
       "       'Lake Arthur, New Mexico, US', 'Dorking, Surrey, England',\n",
       "       'Firtby, Finland', 'Chelsea, London, England',\n",
       "       'Northlew, Devon, England', 'Oslo, Norway',\n",
       "       'Nyköping, Södermanland, Sweden', 'Hjo, Västergötland, Sweden',\n",
       "       'Thornton Heath, London, England',\n",
       "       'Porthoustock, Cornwall, England',\n",
       "       'Bishopstoke, Hampshire, England', 'Gunnislake, Cornwall, England',\n",
       "       'Aghnacliffe, Longford, Ireland', 'Kauhajoki, Finland',\n",
       "       'Ottawa, Ontario, Canada', 'Fond du Lac, Wisconsin, US',\n",
       "       'Stockholm, Sweden', 'Detroit, Michigan, US',\n",
       "       'Penarth, Glamorgan, Wales', 'Scranton, Pennsylvania, US',\n",
       "       'Suistamo, Finland', 'Tibnin, Lebanon',\n",
       "       'Germantown, Pennsylvania, US', 'Woodford County, Kentucky, US',\n",
       "       'Caltra, Galway, Ireland', 'Wallasey, Merseyside, England, UK',\n",
       "       'Clonown, Roscommon, Ireland', 'Slinfold, West Sussex, England',\n",
       "       'Stockholm, Uppland, Sweden', 'Greenwich, Connecticut, US',\n",
       "       'Bryn Mawr, Pennsylvania, US', 'Sundbyberg, Sweden',\n",
       "       'Wimbledon, London, England', 'Athenry, Galway, Ireland',\n",
       "       'Hudson, New York, US', 'Belfast, Ireland',\n",
       "       'East Providence, Rhode Island, US',\n",
       "       'Bunmahon, Waterford, Ireland', 'Eslöv, Skåne, Sweden',\n",
       "       'Heldergem, Haaltert, East Flanders, Belgium',\n",
       "       'Liss, Hampshire, England', 'Streatham, London, England, UK',\n",
       "       'Galdovo, Croatia', 'Aspelare, East Flanders, Belgium',\n",
       "       'Gumostnik, Lovech, Bulgaria', 'Tokyo, Japan',\n",
       "       'Cortrasna, Cavan, Ireland', 'Dowagiac, Michigan, US',\n",
       "       'Kfar Mechi, Syria', 'Manchester, England, UK',\n",
       "       'Cuilmullagh, Mayo, Ireland', 'Carrickatane, Tyrone, Ireland',\n",
       "       'Hawthorne, New Jersey, US',\n",
       "       'Castleconnell, Limerick, Ireland[note 1]',\n",
       "       'Guernsey, Channel Islands, Channel Islands',\n",
       "       'Haverford, Pennsylvania, US', 'Madrid, Spain', 'Russia',\n",
       "       'Cooperstown, New York, US', 'Minneapolis, Minnesota, US',\n",
       "       'Ilford, Essex, England', 'Ramkvilla, Småland, Sweden',\n",
       "       'Frankfort, Kentucky, US', 'Tuxedo Park, New York, US',\n",
       "       'Week St Mary, Cornwall, England', 'Halifax, Nova Scotia, Canada',\n",
       "       'Øyer, Norway', 'Tolworth, London, England, UK',\n",
       "       'Adelaide, South Australia, Australia', 'Trenton, New Jersey, US',\n",
       "       'Helsinki, Finland, Russian Empire[note 6]',\n",
       "       'Liverpool, Merseyside, England', 'Rochester, New York, US',\n",
       "       'Basingstoke, Hampshire, England', nan, 'Ostrovica, Croatia',\n",
       "       'Örsjö, Kalmar, Sweden', 'Tebnin, Lebanon', 'Haaltert, Belgium',\n",
       "       'Janjgir-Champa, British India, UK[note 3]',\n",
       "       'Corlough, Cavan, Ireland', 'Currafarry, Galway, Ireland',\n",
       "       'Montecarlo, Lucca, Tuscany, Italy', 'Asarum, Småland, Sweden',\n",
       "       'Portland, Oregon, US', 'Vaasa, Finland',\n",
       "       'Fillingham, Lincolnshire, England', 'Karlshamn, Blekinge, Sweden',\n",
       "       'Zgharta, Lebanon', 'Myren, Synnerby, Västergötland, Sweden',\n",
       "       'Pielavesi, Finland', 'Lyndhurst, Hampshire, England',\n",
       "       'Sittingbourne, Kent, England', 'Mohill, Leitrim, Ireland',\n",
       "       'Lotzwil, Switzerland', 'Örebro, Sweden',\n",
       "       'Frostensmåla, Småland, Sweden', 'Södra Brantevik, Sweden',\n",
       "       'Hamilton, Ontario, Canada', 'Columbus, Ohio, US',\n",
       "       'Kivijärvi, Finland', 'Konjsko Brdo, Croatia',\n",
       "       'Harrowbarrow, Cornwall, England', 'Algutsrum, Kalmar, Sweden',\n",
       "       'Penzance, Cornwall, England', 'Bremnes, Norway',\n",
       "       'Ballysadare, Sligo, Ireland', 'Greenport, New York, US',\n",
       "       'Tornio, Finland, Russian Empire[note 6]', 'Kerksken, Belgium',\n",
       "       'Ballinalee, Longford, Ireland', 'Todtmoos, Germany',\n",
       "       'Netley Abbey, Hampshire, England',\n",
       "       'Birmingham, Worcester, England', 'Cuilkillew, Mayo, Ireland',\n",
       "       'Warsaw, Poland', 'Maidstone, Kent, England',\n",
       "       'Weston-super-Mare, North Somerset, England',\n",
       "       'Duluth, Minnesota, US', 'Trollhättan, Västergötland, Sweden',\n",
       "       'Västermo, Södermanland, Sweden', 'Marbella, Spain',\n",
       "       'Avaldsnes, Stavanger, Norway', 'San Francisco, California, US',\n",
       "       'Ḑuhūr ash Shuwayr, Lebanon', 'Toronto, Ontario, Canada',\n",
       "       'Skaare, Haugesund, Norway', 'Topolovac, Croatia',\n",
       "       'East Bridgewater, Massachusetts, US',\n",
       "       'Pittsburgh, Pennsylvania, US', 'Indianapolis, Indiana, US',\n",
       "       'Boherbue, Cork, Ireland', 'Petworth, West Sussex, England',\n",
       "       'St Annes-on-Sea, Lancashire, England, UK', 'Odense, Denmark',\n",
       "       'Calheta, Madeira, Portugal',\n",
       "       'Kildale, North Yorkshire, England, UK',\n",
       "       'Rathkeale, Limerick, Ireland', 'Rahway, New Jersey, US',\n",
       "       'Široka Kula, Croatia', 'New York City', 'Turku, Finland',\n",
       "       'Stoughton, Massachusetts, US', 'Elizabeth, New Jersey, US',\n",
       "       'Taalintehdas, Finland', 'Belfast, Northern Ireland, UK',\n",
       "       'Jalasjärvi, Southern Ostrobothnia, Finland',\n",
       "       'Buffalo, New York, US', 'Greatfield, Cheltenham, England',\n",
       "       'Cape Town, South Africa', 'Swanage, England',\n",
       "       'Brookline, Massachusetts, US', 'Björkeberga, Skåne, Sweden',\n",
       "       'Tonacrick, Clare, Ireland', 'Glenduff, Kerry, Ireland',\n",
       "       'Vancouver, British Columbia, Canada',\n",
       "       'Los Angeles, California, US', 'San Francisco, US',\n",
       "       'Warwick, Warwickshire, England', 'Jesenice, Slovenia',\n",
       "       'Shana, Lebanon', 'Killoe, Longford, Ireland',\n",
       "       'Aberdeen, Washington, US', 'Akron, Ohio, US', \"Sar'al, Syria\",\n",
       "       'Washington, DC, US', 'Deal, Kent, England',\n",
       "       'Milwaukee, Wisconsin, US', 'Shanklin, Isle of Wight, England, UK',\n",
       "       'Norwich, Norfolk, England', 'Barcelona, Catalonia, Spain',\n",
       "       'St. Ives, Cornwall, England, UK', 'Drimoleague, Cork, Ireland',\n",
       "       'Toula, Lebanon', 'Mariestad, Västergötland, Sweden',\n",
       "       'Tampico, Montana, US', 'Rathfriland, Down, Ireland',\n",
       "       'Glasgow, Scotland', 'Leigh, Kent, England',\n",
       "       'Eastbourne, East Sussex, England',\n",
       "       'West Bromwich, Staffordshire, England',\n",
       "       'Castlepollard, Westmeath, Ireland',\n",
       "       'Wollaston, Northamptonshire, England', 'Elimäki, Finland',\n",
       "       'Unknown, Unknown', 'Stoneygate, Leicestershire, England',\n",
       "       'Abercynon, Glamorgan, Wales', 'Kyyny, Finland',\n",
       "       'Taunton, Somerset, England', 'Liskeard, Cornwall, England',\n",
       "       'Millwood, England', 'Unknown, Germany',\n",
       "       'Helsingborg, Skåne, Sweden', 'Fostragh, Longford, Ireland',\n",
       "       'Unknown, Ireland', 'Broomfield, Essex, England',\n",
       "       'Yeovil, Somerset, England', 'Boston, Massachusetts, US',\n",
       "       'Copenhagen, Denmark', 'Treherbert, Glamorgan, Wales',\n",
       "       'Haddonfield, New Jersey, US', 'Kingwilliamstown, Cork, Ireland',\n",
       "       'Hessle, East Yorkshire, England, UK', 'Fyrnan, Småland, Sweden',\n",
       "       'Basel, Switzerland', 'Belfast, Ireland, UK',\n",
       "       'Valitaipale, Finland', 'Kricina, Croatia',\n",
       "       'Market Drayton, Shropshire, England',\n",
       "       'Wallingford, Oxfordshire, England',\n",
       "       'Etnesjøen, Hordaland Fylke, Norway', 'Whitechurch, Cork, Ireland',\n",
       "       'Dublin, Ireland, UK[note 1]', 'Southsea, Hampshire, England',\n",
       "       'Hogstad, Norway', 'Unknown (Estonia?), Russia (Estonia?)',\n",
       "       'Cape Town, South Africa, UK', 'Tofta, Uppland, Sweden',\n",
       "       'Oulainen, Oulu, Finland', 'Cahir, Tipperary, Ireland',\n",
       "       'Cairo, Egypt', 'Vikersund, Norway',\n",
       "       'Cape Town, South Africa, UK[note 4]', 'Gornji Miholjac, Croatia',\n",
       "       'St Louis, Missouri, US', 'Calgary, Alberta, Canada',\n",
       "       'Milje, Slovenia', 'Bronx, New York, US',\n",
       "       'Leixlip, Kildare, Ireland', 'Borgund, Møre og Romsdal, Norway',\n",
       "       'Holeby, Storstrøm, Denmark', 'Brussels, Belgium',\n",
       "       'Stamford, Connecticut, US', 'Bath, Somerset, England',\n",
       "       'Dublin, Ireland', 'Abbeyleix, Laois, Ireland[note 1]',\n",
       "       'Southampton, Hampshire, England', 'Skara, Västergötland, Sweden',\n",
       "       'Tonypandy, Glamorgan, Wales', 'Malka Ribnya, Troyan, Bulgaria',\n",
       "       'Kingston, Surrey, England, UK',\n",
       "       'Convoy, Donegal, Ireland, England', 'Muljula, Kitee, Finland',\n",
       "       'Turku, Finland, Russian Empire[note 6]',\n",
       "       'Heamoor, Cornwall, England', 'Unknown, Russia',\n",
       "       'Denderhoutem, Belgium', 'Dagsås, Halland, Sweden',\n",
       "       'Kårberg, Örebro, Sweden', 'Carrowkehine, Mayo, Ireland',\n",
       "       'Bokn, Norway', 'Kristinehamn, Värmland, Sweden',\n",
       "       'Springfield, Massachusetts, US', 'Terziysko, Troyan, Bulgaria',\n",
       "       'Middleburg Heights, Ohio, US', 'St. Paul, Minnesota, US',\n",
       "       'Great Yarmouth, Norfolk, England', 'Landrake, Cornwall, England',\n",
       "       'Portage la Prairie, Manitoba, Canada',\n",
       "       'Rotterdam, The Netherlands', 'Clonbur, Galway, Ireland',\n",
       "       'Bayonne, New Jersey, US', 'Krakoryd, Småland, Sweden',\n",
       "       'Southall, London, England', 'Lakewood, New Jersey, US',\n",
       "       'Streklevac, Slovenia', 'Salo, Finland',\n",
       "       'Huntingfield, Suffolk, England', 'Áyios Sóstis, Greece',\n",
       "       'Lipova Glavica, Croatia', 'Reftele, Småland, Sweden',\n",
       "       'Lima, Peru', 'Racine, Wisconsin, US',\n",
       "       'Porthleven, Cornwall, England',\n",
       "       'Clevedon, North Somerset England', 'El Shweir, Lebanon',\n",
       "       'Kokkola, Finland', 'Knezhni Lak, Troyan, Bulgaria',\n",
       "       'Deer Lodge, Montana, US', 'Gudinė, Lithuania [76]',\n",
       "       'Patrickswell, Limerick, Ireland', 'Fermoy, Ireland[note 1]',\n",
       "       'Uster, Switzerland', 'Knäred, Halland, Sweden',\n",
       "       'Bank Place, Tipperary, Ireland', 'Bangkok, Siam[note 5]',\n",
       "       'Shwayhad, Syria', 'Bennington, Vermont, US',\n",
       "       'Swindon, Wiltshire, England', 'Limerick, Ireland[note 1]',\n",
       "       'Ibrin[85], Syria or Lebanon', 'Pomeroy, Washington, US',\n",
       "       'Agios Sostis, Greece', 'Provo, Utah, US',\n",
       "       'Tynagh, Galway, Ireland', 'Huntington, West Virginia, US',\n",
       "       'Perkins County, South Dakota, US', 'Podgora, Croatia',\n",
       "       'Sydney, New South Wales, Australia', 'Albany, New York, US',\n",
       "       'Karinainen, Finland', 'Havana, Cuba',\n",
       "       'Greenwich, London, England', 'Bree, Wexford, Ireland',\n",
       "       'Ascot, Berkshire, England, UK', 'Unknown, Macedonia',\n",
       "       'Glencree, Ireland[note 1]', 'Clevedon, North Somerset, England',\n",
       "       'Cum, Mayo, Ireland', 'New Haven, Connecticut, US',\n",
       "       'Sandefjord, Norway', 'Antwerp, Belgium',\n",
       "       'Ikaalinen, Pirkanmaa, Finland', 'Medeltorp, Småland, Sweden',\n",
       "       'Newark, New Jersey, US', 'Donoughmore, Cork, Ireland',\n",
       "       'Kvarnaryd, Småland, Sweden', 'Ballinascreen, Tipperary, Ireland',\n",
       "       'Cork, Cork, Ireland', 'Ovens, Cork, Ireland',\n",
       "       'Fergus, Ontario, Canada', 'Jersey City, New Jersey, US',\n",
       "       'Hamburg, German Empire[note 2]', 'Watergate, Limerick, Ireland',\n",
       "       'Norrköping, Östergötland, Sweden',\n",
       "       'Arboretum, Worcestershire, England', 'Mogilev, Belarus',\n",
       "       'Jordanstorp, Södermanland, Sweden', 'Brighton, Massachusetts, US',\n",
       "       'Roachdale, Indiana, US', 'Gabrovo, Bulgaria',\n",
       "       'Liverpool, Merseyside, England,',\n",
       "       'Saint Sampson, Guernsey, Channel Islands, England',\n",
       "       'Kilcogy, Cavan, Ireland',\n",
       "       'Scheyern, Bavaria, German Empire[note 2]', 'Omaha, Nebraska, US',\n",
       "       'Stora Tuna, Sweden', 'Edinburgh, Scotland',\n",
       "       'Guntur, Madras Province, British India[note 3]',\n",
       "       'Sarnia, Ontario, Canada', 'Ilfracombe, Devon, England',\n",
       "       'Barre, Vermont, US', 'Chelsea, Michigan, US',\n",
       "       'Lysvik, Värmland, Sweden',\n",
       "       'Saint Peter Port, Guernsey, Channel Islands',\n",
       "       'Haugesund, Rogaland, Norway', 'Redruth, Cornwall, England',\n",
       "       'Le Havre, France', 'Terry, Mayo, Ireland', 'Bakić, Bosnia',\n",
       "       'Fritham, Hampshire, England, UK', 'Vadsbro, Sörmland, Sweden',\n",
       "       'Chelsea, London, England, UK', 'Derrymartin, Mayo, Ireland',\n",
       "       'Unknown, Scotland', 'Oxford, Oxfordshire, England',\n",
       "       'Oskarshamn, Kalmar, Sweden', 'Trien, Roscommon, Ireland',\n",
       "       'Devonport, Devon, England', 'Östra Sallerup, Skåne, Sweden',\n",
       "       'Joensuu, Finland, Russian Empire[note 6]', 'Dalsbruk, Finland',\n",
       "       'Genevad, Halland, Sweden', 'Vienna, Austria',\n",
       "       'Currowhunane, Sligo, Ireland',\n",
       "       'Västra Bogane, Orust Island, Sweden', 'Krøkstad, Ski, Norway',\n",
       "       'Hörby, Skåne, Sweden', 'Milford, New Hampshire, US',\n",
       "       'Portsmouth, Hampshire, England',\n",
       "       'North Walsham, Norfolk, England', 'Bukovac, Croatia',\n",
       "       'Mullingar, Westmeath, Ireland', \"Sir'Al, Lebanon\",\n",
       "       'Wellingborough, Northamptonshire, England',\n",
       "       'Bridgwater, Somerset, England', 'Lunna, Orust Island, Sweden',\n",
       "       'Tipperary, Ireland', 'Aclare, Sligo, Ireland',\n",
       "       'Tavistock, Devon, England', 'Tågarp, Skåne, Sweden',\n",
       "       'Hartford, Connecticut, US', 'Brockton, Massachusetts, US',\n",
       "       'Madeira, Portugal', 'Guernsey, Channel Islands, UK',\n",
       "       'Truro, Cornwall, England, UK', 'Simrishamn, Skåne, Sweden',\n",
       "       'Sondmore, Norway', 'Orange, New Jersey, US',\n",
       "       'Maidenhead, Berkshire, England', 'Torquay, Devon, England, UK',\n",
       "       'Belmont, Massachusetts, US', 'Sandhurst, Kent, England',\n",
       "       'Waterford, Waterford, Ireland', 'Toledo, Ohio, US',\n",
       "       'Birmingham, West Midlands, England, UK',\n",
       "       'Broadford, Limerick, Ireland', 'Durban, South Africa',\n",
       "       'Salisbury, Wiltshire, England', 'Horset, Småland, Sweden',\n",
       "       'West Hoboken, New Jersey, US', 'Knockmaria, Mayo, Ireland',\n",
       "       'Carleens, Cornwall, England', 'Kilkinlea, Limerick, Ireland',\n",
       "       'Harrowbarrow, Cornwall, England, UK',\n",
       "       'Cologne, German Empire[note 2]', 'Glenlougha, Cork, Ireland',\n",
       "       'Donoughmore, Ireland', 'Skaun, Sør-Trøndelag, Norway',\n",
       "       \"Sar'al[81], Syria\"], dtype=object)"
      ]
     },
     "execution_count": 378,
     "metadata": {},
     "output_type": "execute_result"
    }
   ],
   "source": [
    "df['Hometown'].unique()"
   ]
  },
  {
   "cell_type": "code",
   "execution_count": 379,
   "metadata": {},
   "outputs": [
    {
     "data": {
      "text/plain": [
       "array([\"Qu'Appelle Valley, Saskatchewan, Canada\",\n",
       "       'New York, New York, US', 'New York City',\n",
       "       'Scituate, Massachusetts, US', 'Dorchester, Massachusetts, US',\n",
       "       'Chicago, Illinois, US', 'St. Charles, Illinois, US',\n",
       "       'Cleveland, Ohio, US', 'San Francisco, US', 'Youngstown, Ohio, US',\n",
       "       'Winnipeg, Manitoba, Canada', 'Los Angeles, US',\n",
       "       'Rapid City, South Dakota, US', 'Spokane, Washington, US',\n",
       "       'Fremont, Ohio, US', 'Michigan City, Indiana, US',\n",
       "       'Montreal, Quebec, Canada', 'Toronto, Ontario, Canada',\n",
       "       'New Britain, Connecticut, US', 'Worcester, Massachusetts, US',\n",
       "       'Mexico City, Mexico', 'Washington, DC, US',\n",
       "       'Edgewood, Rhode Island, US', 'Philadelphia, Pennsylvania, US',\n",
       "       'Jacksonville, Florida, US', 'Akeley, Minnesota, US',\n",
       "       'Salt Lake City, Utah, US', 'Madison, Wisconsin, US',\n",
       "       'Cap-Haïtien, Haiti', 'Jersey City, New Jersey, US',\n",
       "       'Wilkes-Barre, Pennsylvania, US', 'New Glarus, Wisconsin, US',\n",
       "       'Coal Center, Pennsylvania, US', 'Buffalo, New York, US',\n",
       "       'Providence, Rhode Island, US', 'Wilmington, Delaware, US',\n",
       "       'Ottawa, Ontario, Canada', 'Gainesville, Florida, US',\n",
       "       'Niagara Falls, New York, US', 'Brantford, Ontario, Canada',\n",
       "       'Iron Mountain, Michigan, US', 'Gallipolis, Ohio, US',\n",
       "       'Houtzdale, Pennsylvania, US', 'East Orange, New Jersey, US',\n",
       "       'Milwaukee, Wisconsin, US', 'Houghton, Michigan, US',\n",
       "       'Manitoba, Canada', 'Minneapolis, Minnesota, US',\n",
       "       'Roseville, Illinois, US', 'Stanton, Ohio, US',\n",
       "       'Detroit, Michigan, US', 'Montevideo, Uruguay',\n",
       "       'Atlanta, Georgia, US', 'Essex County, New Jersey, US',\n",
       "       'Amenia, North Dakota, US', 'Wichita, Kansas, US',\n",
       "       'Merrill, Wisconsin, US', 'New York, US', 'Bronx, New York, US',\n",
       "       'Harrisburg, Pennsylvania, US', 'Brunswick, Maine, US',\n",
       "       'Cheyenne, North Dakota, US', 'Proctor, Minnesota, US',\n",
       "       'Brooklyn, New York, US', 'The Pas, Manitoba, Canada',\n",
       "       'Hoboken, New Jersey, US', 'Hartford, Connecticut, US',\n",
       "       'Effington Rut, South Dakota, US', 'Yonkers, New York, US',\n",
       "       'Mitchell, South Dakota, US', 'Kent, British Columbia, Canada',\n",
       "       'Hackensack, New Jersey, US', 'Monessen, Pennsylvania, US',\n",
       "       'Charlestown, US', 'Trenton, New Jersey, US',\n",
       "       'North Wales, Pennsylvania, US', 'Broderick, Canada',\n",
       "       'Radnor, Pennsylvania, US', 'Newark, New Jersey, US',\n",
       "       'Portland, Oregon, US', 'Monee, Illinois, US',\n",
       "       'Sault Ste. Marie, Michigan, US', 'Mountain Home, Idaho, US',\n",
       "       'Long Island, New York, US', 'Mystic, Iowa, US',\n",
       "       'Auburn, New York, US', 'Benton Harbor, Michigan, US',\n",
       "       'Seattle, Washington, US', 'Denver, Colorado, US',\n",
       "       'Vancouver, British Columbia, Canada',\n",
       "       'Indiana Harbor, Indiana, US', 'Fredericksburg, Virginia, US',\n",
       "       'Glen Ridge, New Jersey, US', 'Mamaronek, New York, US',\n",
       "       'Saskatoon, Saskatchewan, Canada', 'San Francisco, California, US',\n",
       "       'Lexington, Massachusetts, US', 'Lake Arthur, New Mexico, US',\n",
       "       'Lead, South Dakota, US', 'Coon Rapids, Iowa, US',\n",
       "       'Stamford, Connecticut, US', 'Bayonne, New Jersey, US',\n",
       "       'Sault Ste Marie, Michigan, US', 'New London, Connecticut, US',\n",
       "       'Sacramento, California, US', 'Payette, Idaho, US',\n",
       "       'Butte, Montana, US', 'Sudbury, Ontario, Canada',\n",
       "       'Fond du Lac, Wisconsin, US', 'Saranac Lake, New York, US',\n",
       "       'Scranton, Pennsylvania, US', 'Astoria, Oregon, US',\n",
       "       'Dowagiac, Michigan, US', 'Germantown, Pennsylvania, US',\n",
       "       'Woodford County, Kentucky, US', 'Hammond, Indiana, US',\n",
       "       'Boston, Massachusetts, US', 'Indianapolis, Indiana, US',\n",
       "       'Greenwich, Connecticut, US', 'Bryn Mawr, Pennsylvania, US',\n",
       "       'Bennington, Vermont, US', 'Hudson, New York, US',\n",
       "       'Stratford, Connecticut, US', 'East Providence, Rhode Island, US',\n",
       "       'Morris Plains, New Jersey, US', 'Gladstone, Michigan, US',\n",
       "       'Oglesby, Illinois, US', 'Tokyo, Japan',\n",
       "       'Haverford, Pennsylvania, US', 'Cooperstown, New York, US',\n",
       "       'Joliet, Illinois, US', 'Frankfort, Kentucky, US',\n",
       "       'Tuxedo Park, New York, US', 'Grand Forks, North Dakota, US',\n",
       "       'Fingal, North Dakota, US', 'Ashtabula, Ohio, US',\n",
       "       'Minatitlán, Veracruz, Mexico', 'Rochester, New York, US',\n",
       "       'Washington, DC US', nan, 'Red Lodge, Montana, US',\n",
       "       'Peoria, Illinois, US', 'Bally, Pennsylvania, US',\n",
       "       'East Lynn, Massachusetts, US', 'Russell, US',\n",
       "       'Waterbury, Connecticut, US', 'Aberdeen, South Dakota, US',\n",
       "       'Tulsa, Oklahoma, US', 'Eden, Manitoba, Canada',\n",
       "       'Lakewood Township, New Jersey, US', 'Central City, Iowa, US',\n",
       "       'Swedeburg, Nebraska, US', 'St. Paul, Minnesota, US',\n",
       "       'Hamilton, Ontario, Canada', 'Columbus, Ohio, US',\n",
       "       'La Porte City, Iowa, US', 'Clear Creek, Colorado, US',\n",
       "       'Akron, Ohio, US', 'Cheyenne, Wyoming, US',\n",
       "       'Greenport, New York, US', 'La Salle, Illinois, US',\n",
       "       'Stanton, Iowa, US', 'Quebec City, Quebec, Canada',\n",
       "       'Clinton, New York, US', 'Duluth, Minnesota, US',\n",
       "       'Arlington, Virginia, US', 'Belmar, New Jersey, US',\n",
       "       'Galesburg, Illinois, US', 'East Bridgewater, Massachusetts, US',\n",
       "       'Pittsburgh, Pennsylvania, US', 'Oregon, Wisconsin, US',\n",
       "       'Rahway, New Jersey, US', 'Stoughton, Massachusetts',\n",
       "       'Elizabeth, New Jersey, US', 'Palmer, Massachusetts, US',\n",
       "       'Hibbing, Minnesota, US', 'Canastota, New York, US',\n",
       "       'Brookline, Massachusetts, US', 'Troy, New York, US',\n",
       "       'Los Angeles, California, US', 'St. Joseph, Minnesota, US',\n",
       "       'Marietta, Ohio, US', 'Aberdeen, Washington, US',\n",
       "       'Groesbeck, Texas, US', 'Havana, Cuba', 'Dayton, Ohio, US',\n",
       "       'Halifax, Nova Scotia, Canada', 'Tampico, Montana, US',\n",
       "       'Gleichen, Alberta, Canada', 'Pontiac, Michigan, US',\n",
       "       'Huntley, Illinois, US', 'Kitchener, Ontario, Canada',\n",
       "       'Gurnee, Illinois, US', 'Bernardsville, New Jersey, US',\n",
       "       'Racine, Wisconsin, US', 'Haddonfield, New Jersey, US',\n",
       "       'Tuxford, Saskatchewan, Canada', 'Tottenville, New York, US',\n",
       "       'Great Falls, Montana, US', 'Schenectady, New York, US',\n",
       "       'New Haven, Connecticut, US', 'Story City, Iowa, US',\n",
       "       'Toledo, Ohio, US', 'Halley, Michigan, US', 'Carneron, US',\n",
       "       'St Louis, Missouri, US', 'Calgary, Alberta, Canada',\n",
       "       'Auburndale, Florida, US', 'Rockford, Illinois, US',\n",
       "       'Calumet, Michigan, US', 'Brighton, Boston, Massachusetts, US',\n",
       "       'Tower, Minnesota, US', 'Jerome Junction, Arizona, US',\n",
       "       'Portland, North Dakota, US', 'Owen Sound, Ontario, Canada',\n",
       "       'Springfield, Massachusetts, US', 'Olympia, Washington, US',\n",
       "       'Middleburg Heights, Ohio, US', 'Steelton, Pennsylvania, US',\n",
       "       'Wilkes Barre, Pennsylvania, US', 'Albion, Michigan, US',\n",
       "       'Nashua, New Hampshire, US', 'Des Moines, Iowa, US',\n",
       "       'Guttenberg, New Jersey, US', 'Bloomington, Indiana, US',\n",
       "       'Lakewood, New Jersey, US', 'Aurora, Illinois, US',\n",
       "       'Stamford, Connecticut US', 'Cincinnati, Ohio, US',\n",
       "       'Hanover, New Hampshire, US', 'Norfolk, Virginia, US',\n",
       "       'Lima, Peru', 'Camden, New Jersey, US', 'Waukegan, Illinois, US',\n",
       "       'Deer Lodge, Montana, US', 'Waban, Massachusetts, US',\n",
       "       'Beloit, Wisconsin, US', 'Beresford, South Dakota, US',\n",
       "       'Dobbs Ferry, New York, US', 'Greensburg, Pennsylvania, US',\n",
       "       'Idaho, US', 'Kulpmont, Pennsylvania, US',\n",
       "       'Pomeroy, Washington, US', 'Provo, Utah, US',\n",
       "       'Huntington, West Virginia, US',\n",
       "       'Perkins County, South Dakota, US', 'Bedford, Indiana, US',\n",
       "       'Canada', 'Glen Falls, New York, US', 'Albany, New York, US',\n",
       "       'Skaneateles, New York, US', 'Burlington, Iowa, US',\n",
       "       'Glassport, Pennsylvania, US', 'Roxbury, Massachusetts, US',\n",
       "       'Fergus, Ontario, Canada', 'Gloversville, New York, US',\n",
       "       'Brighton, Massachusetts, US', 'Roachdale, Indiana, US',\n",
       "       'Albion, New York, US', 'Cottage Grove, Oregon, US',\n",
       "       'St. Cloud, Minnesota, US', 'Omaha, Nebraska, US',\n",
       "       'Evanston, Illinois, US', 'Hancock, Michigan, US',\n",
       "       'Sarnia, Ontario, Canada', 'Moose Jaw, Saskatchewan, Canada',\n",
       "       'New Brighton, Pennsylvania, US', 'Barre, Vermont, US',\n",
       "       'Chelsea, Michigan, US', 'Missoula, Montana, US',\n",
       "       'Centerville, South Dakota, US', 'Port Byron, New York, US',\n",
       "       'Manistee, Michigan, US', 'Middletown, Connecticut, US',\n",
       "       'Red Wing, Minnesota, US', 'Patterson, New Jersey, US',\n",
       "       'Milford, New Hampshire, US', 'North Bergen, New Jersey, US',\n",
       "       'Elmira, New York, US', 'Manitowoc, Wisconsin, US',\n",
       "       'Brockton, Massachusetts, US', 'São Paulo, Brazil',\n",
       "       'Orange, New Jersey, US', 'Mamaroneck, New York, US',\n",
       "       'Belmont, Massachusetts, US', 'Ontario, New York, US',\n",
       "       'Larchmont, New York, US', 'Asheville, North Carolina, US',\n",
       "       'West Hoboken, New Jersey, US', 'Milwaukee, Wisconsin',\n",
       "       'Sherbrooke, Quebec, Canada', 'US'], dtype=object)"
      ]
     },
     "execution_count": 379,
     "metadata": {},
     "output_type": "execute_result"
    }
   ],
   "source": [
    "df['Destination'].unique()"
   ]
  },
  {
   "cell_type": "markdown",
   "metadata": {},
   "source": [
    "Hometown and Destination doesnot provide much information therefore they can be removed"
   ]
  },
  {
   "cell_type": "markdown",
   "metadata": {},
   "source": [
    "# Drop hometown and Destination "
   ]
  },
  {
   "cell_type": "code",
   "execution_count": 380,
   "metadata": {},
   "outputs": [
    {
     "data": {
      "text/plain": [
       "Index(['Survived', 'Pclass', 'Sex', 'Age', 'SibSp', 'Parch', 'Embarked',\n",
       "       'Lifeboat', 'Title'],\n",
       "      dtype='object')"
      ]
     },
     "execution_count": 380,
     "metadata": {},
     "output_type": "execute_result"
    }
   ],
   "source": [
    "df.drop(columns=['Hometown','Destination'],axis=1, inplace=True)\n",
    "df.columns"
   ]
  },
  {
   "cell_type": "markdown",
   "metadata": {},
   "source": [
    "# Sibsp"
   ]
  },
  {
   "cell_type": "code",
   "execution_count": 381,
   "metadata": {},
   "outputs": [
    {
     "data": {
      "text/plain": [
       "array([1, 0, 3, 4, 2, 5, 8], dtype=int64)"
      ]
     },
     "execution_count": 381,
     "metadata": {},
     "output_type": "execute_result"
    }
   ],
   "source": [
    "df['SibSp'].unique()"
   ]
  },
  {
   "cell_type": "code",
   "execution_count": 382,
   "metadata": {
    "scrolled": true
   },
   "outputs": [
    {
     "name": "stderr",
     "output_type": "stream",
     "text": [
      "C:\\Users\\Azfa Razzaq\\anaconda3\\lib\\site-packages\\seaborn\\categorical.py:3704: UserWarning: The `factorplot` function has been renamed to `catplot`. The original name will be removed in a future release. Please update your code. Note that the default `kind` in `factorplot` (`'point'`) has changed `'strip'` in `catplot`.\n",
      "  warnings.warn(msg)\n"
     ]
    },
    {
     "data": {
      "image/png": "[encoded data removed]",
      "text/plain": [
       "<Figure size 360x360 with 1 Axes>"
      ]
     },
     "metadata": {
      "needs_background": "light"
     },
     "output_type": "display_data"
    }
   ],
   "source": [
    "sns.factorplot(x='SibSp', y='Survived', data=df, kind=\"bar\", ci=None)\n",
    "plt.xlabel('sibling and spouse')\n",
    "plt.ylabel('Survival Probability')\n",
    "plt.show()"
   ]
  },
  {
   "cell_type": "markdown",
   "metadata": {},
   "source": [
    "The probability of survival for 1 or 2 sibling or spouse has a higher chance of survival"
   ]
  },
  {
   "cell_type": "code",
   "execution_count": 383,
   "metadata": {},
   "outputs": [
    {
     "data": {
      "text/plain": [
       "0"
      ]
     },
     "execution_count": 383,
     "metadata": {},
     "output_type": "execute_result"
    }
   ],
   "source": [
    "df['SibSp'].isnull().sum()"
   ]
  },
  {
   "cell_type": "markdown",
   "metadata": {},
   "source": [
    "There are no missing values"
   ]
  },
  {
   "cell_type": "markdown",
   "metadata": {},
   "source": [
    "# Parch"
   ]
  },
  {
   "cell_type": "code",
   "execution_count": 384,
   "metadata": {},
   "outputs": [
    {
     "data": {
      "text/plain": [
       "0"
      ]
     },
     "execution_count": 384,
     "metadata": {},
     "output_type": "execute_result"
    }
   ],
   "source": [
    "df['Parch'].isnull().sum()"
   ]
  },
  {
   "cell_type": "markdown",
   "metadata": {},
   "source": [
    "No missing values in this variable"
   ]
  },
  {
   "cell_type": "code",
   "execution_count": 385,
   "metadata": {
    "scrolled": false
   },
   "outputs": [
    {
     "data": {
      "text/plain": [
       "array([0, 1, 2, 5, 3, 4, 6, 9], dtype=int64)"
      ]
     },
     "execution_count": 385,
     "metadata": {},
     "output_type": "execute_result"
    }
   ],
   "source": [
    "df['Parch'].unique()"
   ]
  },
  {
   "cell_type": "code",
   "execution_count": 386,
   "metadata": {},
   "outputs": [
    {
     "name": "stderr",
     "output_type": "stream",
     "text": [
      "C:\\Users\\Azfa Razzaq\\anaconda3\\lib\\site-packages\\seaborn\\categorical.py:3704: UserWarning: The `factorplot` function has been renamed to `catplot`. The original name will be removed in a future release. Please update your code. Note that the default `kind` in `factorplot` (`'point'`) has changed `'strip'` in `catplot`.\n",
      "  warnings.warn(msg)\n"
     ]
    },
    {
     "data": {
      "image/png": "[encoded data removed]",
      "text/plain": [
       "<Figure size 360x360 with 1 Axes>"
      ]
     },
     "metadata": {
      "needs_background": "light"
     },
     "output_type": "display_data"
    }
   ],
   "source": [
    "sns.factorplot(x='Parch', y='Survived', data=df, kind=\"bar\", ci=None)\n",
    "plt.xlabel('parch')\n",
    "plt.ylabel('Survival Probability')\n",
    "plt.show()"
   ]
  },
  {
   "cell_type": "markdown",
   "metadata": {},
   "source": [
    "The probability of survival for the people who travelled with 1,2,3 is parents or childeren is higher"
   ]
  },
  {
   "cell_type": "code",
   "execution_count": 387,
   "metadata": {},
   "outputs": [
    {
     "data": {
      "text/plain": [
       "Index(['Survived', 'Pclass', 'Sex', 'Age', 'SibSp', 'Parch', 'Embarked',\n",
       "       'Lifeboat', 'Title'],\n",
       "      dtype='object')"
      ]
     },
     "execution_count": 387,
     "metadata": {},
     "output_type": "execute_result"
    }
   ],
   "source": [
    "df.columns"
   ]
  },
  {
   "cell_type": "markdown",
   "metadata": {},
   "source": [
    "# Age vs. Survival"
   ]
  },
  {
   "cell_type": "code",
   "execution_count": 388,
   "metadata": {},
   "outputs": [
    {
     "data": {
      "text/plain": [
       "<AxesSubplot:xlabel='Age', ylabel='Survived'>"
      ]
     },
     "execution_count": 388,
     "metadata": {},
     "output_type": "execute_result"
    },
    {
     "data": {
      "image/png": "[encoded data removed]",
      "text/plain": [
       "<Figure size 432x288 with 1 Axes>"
      ]
     },
     "metadata": {
      "needs_background": "light"
     },
     "output_type": "display_data"
    }
   ],
   "source": [
    "sns.scatterplot(data=df, x='Age', y='Survived')"
   ]
  },
  {
   "cell_type": "markdown",
   "metadata": {},
   "source": [
    "Eventhough a clear pattern cannot be seen it is obvious that  the survival rate of those who are older than 60 year is very low except for some outlier value"
   ]
  },
  {
   "cell_type": "markdown",
   "metadata": {},
   "source": [
    "   # Lifeboat"
   ]
  },
  {
   "cell_type": "code",
   "execution_count": 389,
   "metadata": {},
   "outputs": [
    {
     "name": "stdout",
     "output_type": "stream",
     "text": [
      "807\n",
      "null missing percentge:  61.65011459129106\n"
     ]
    }
   ],
   "source": [
    "print(df['Lifeboat'].isnull().sum())\n",
    "\n",
    "print(\"null missing percentge: \",(807/1309)*100)"
   ]
  },
  {
   "cell_type": "markdown",
   "metadata": {},
   "source": [
    "61% of the values are missing"
   ]
  },
  {
   "cell_type": "code",
   "execution_count": 390,
   "metadata": {},
   "outputs": [
    {
     "data": {
      "text/plain": [
       "13       42\n",
       "C        41\n",
       "15       38\n",
       "14       34\n",
       "4        31\n",
       "5        29\n",
       "10       29\n",
       "9        26\n",
       "11       26\n",
       "3        26\n",
       "8        24\n",
       "16       23\n",
       "7        22\n",
       "6        21\n",
       "12       18\n",
       "D        18\n",
       "2        14\n",
       "?        12\n",
       "A        11\n",
       "B         9\n",
       "1         5\n",
       "14?       1\n",
       "15?       1\n",
       "A[64]     1\n",
       "Name: Lifeboat, dtype: int64"
      ]
     },
     "execution_count": 390,
     "metadata": {},
     "output_type": "execute_result"
    }
   ],
   "source": [
    "df['Lifeboat'].value_counts()\n"
   ]
  },
  {
   "cell_type": "code",
   "execution_count": 391,
   "metadata": {},
   "outputs": [
    {
     "name": "stderr",
     "output_type": "stream",
     "text": [
      "C:\\Users\\Azfa Razzaq\\anaconda3\\lib\\site-packages\\seaborn\\categorical.py:3704: UserWarning: The `factorplot` function has been renamed to `catplot`. The original name will be removed in a future release. Please update your code. Note that the default `kind` in `factorplot` (`'point'`) has changed `'strip'` in `catplot`.\n",
      "  warnings.warn(msg)\n"
     ]
    },
    {
     "data": {
      "image/png": "[encoded data removed]",
      "text/plain": [
       "<Figure size 360x360 with 1 Axes>"
      ]
     },
     "metadata": {
      "needs_background": "light"
     },
     "output_type": "display_data"
    }
   ],
   "source": [
    "sns.factorplot(x='Lifeboat', y='Survived', data=df, kind=\"bar\", ci=None)\n",
    "plt.xlabel('Lifeboat')\n",
    "plt.ylabel('Survival Probability')\n",
    "plt.show()"
   ]
  },
  {
   "cell_type": "markdown",
   "metadata": {},
   "source": [
    "The survival rate of all lifeboats are 100% except for A, 14 and 10. As the information contains many missing values and a majority of lifeboats was able to save lifes this information is not necessary for predicting the survival. Hence this column will be dropped"
   ]
  },
  {
   "cell_type": "markdown",
   "metadata": {},
   "source": [
    "# Drop Lifeboat"
   ]
  },
  {
   "cell_type": "code",
   "execution_count": 392,
   "metadata": {},
   "outputs": [],
   "source": [
    "df.drop(columns='Lifeboat',axis=1,inplace=True)"
   ]
  },
  {
   "cell_type": "code",
   "execution_count": 393,
   "metadata": {},
   "outputs": [
    {
     "data": {
      "text/plain": [
       "Index(['Survived', 'Pclass', 'Sex', 'Age', 'SibSp', 'Parch', 'Embarked',\n",
       "       'Title'],\n",
       "      dtype='object')"
      ]
     },
     "execution_count": 393,
     "metadata": {},
     "output_type": "execute_result"
    }
   ],
   "source": [
    "df.columns"
   ]
  },
  {
   "cell_type": "markdown",
   "metadata": {},
   "source": [
    "# bining Age variable"
   ]
  },
  {
   "cell_type": "code",
   "execution_count": 394,
   "metadata": {},
   "outputs": [
    {
     "data": {
      "text/plain": [
       "<AxesSubplot:xlabel='Age'>"
      ]
     },
     "execution_count": 394,
     "metadata": {},
     "output_type": "execute_result"
    },
    {
     "data": {
      "image/png": "[encoded data removed]",
      "text/plain": [
       "<Figure size 432x288 with 1 Axes>"
      ]
     },
     "metadata": {
      "needs_background": "light"
     },
     "output_type": "display_data"
    }
   ],
   "source": [
    "\n",
    "sns.boxplot(data=df, x='Age')"
   ]
  },
  {
   "cell_type": "markdown",
   "metadata": {},
   "source": [
    "The age has outliers therefore it will be put in to 5 categories"
   ]
  },
  {
   "cell_type": "code",
   "execution_count": 395,
   "metadata": {},
   "outputs": [],
   "source": [
    "df['Age']=pd.cut(df['Age'].astype(int),5)\n"
   ]
  },
  {
   "cell_type": "code",
   "execution_count": 396,
   "metadata": {
    "scrolled": false
   },
   "outputs": [
    {
     "data": {
      "text/plain": [
       "(16.0, 32.0]     696\n",
       "(32.0, 48.0]     323\n",
       "(-0.08, 16.0]    158\n",
       "(48.0, 64.0]     117\n",
       "(64.0, 80.0]      15\n",
       "Name: Age, dtype: int64"
      ]
     },
     "execution_count": 396,
     "metadata": {},
     "output_type": "execute_result"
    }
   ],
   "source": [
    "df['Age'].unique()\n",
    "df['Age'].value_counts()"
   ]
  },
  {
   "cell_type": "markdown",
   "metadata": {},
   "source": [
    "# Age vs Survived"
   ]
  },
  {
   "cell_type": "code",
   "execution_count": 397,
   "metadata": {},
   "outputs": [
    {
     "name": "stderr",
     "output_type": "stream",
     "text": [
      "C:\\Users\\Azfa Razzaq\\anaconda3\\lib\\site-packages\\seaborn\\categorical.py:3704: UserWarning: The `factorplot` function has been renamed to `catplot`. The original name will be removed in a future release. Please update your code. Note that the default `kind` in `factorplot` (`'point'`) has changed `'strip'` in `catplot`.\n",
      "  warnings.warn(msg)\n"
     ]
    },
    {
     "data": {
      "image/png": "[encoded data removed]",
      "text/plain": [
       "<Figure size 360x360 with 1 Axes>"
      ]
     },
     "metadata": {
      "needs_background": "light"
     },
     "output_type": "display_data"
    }
   ],
   "source": [
    "sns.factorplot(x='Age', y='Survived', data=df, kind=\"bar\", ci=None)\n",
    "plt.xlabel('Age')\n",
    "plt.ylabel('Survival Probability')\n",
    "plt.show()"
   ]
  },
  {
   "cell_type": "markdown",
   "metadata": {},
   "source": [
    "The survival rate of last age cateogry is very low"
   ]
  },
  {
   "cell_type": "markdown",
   "metadata": {},
   "source": [
    "# Encoding Categorical variables"
   ]
  },
  {
   "cell_type": "code",
   "execution_count": 398,
   "metadata": {},
   "outputs": [],
   "source": [
    "one_hot_encoded_data = pd.get_dummies(df, columns = ['Sex','Embarked','Title'])"
   ]
  },
  {
   "cell_type": "code",
   "execution_count": 399,
   "metadata": {
    "scrolled": true
   },
   "outputs": [
    {
     "data": {
      "text/html": [
       "<div>\n",
       "<style scoped>\n",
       "    .dataframe tbody tr th:only-of-type {\n",
       "        vertical-align: middle;\n",
       "    }\n",
       "\n",
       "    .dataframe tbody tr th {\n",
       "        vertical-align: top;\n",
       "    }\n",
       "\n",
       "    .dataframe thead th {\n",
       "        text-align: right;\n",
       "    }\n",
       "</style>\n",
       "<table border=\"1\" class=\"dataframe\">\n",
       "  <thead>\n",
       "    <tr style=\"text-align: right;\">\n",
       "      <th></th>\n",
       "      <th>Survived</th>\n",
       "      <th>Pclass</th>\n",
       "      <th>Age</th>\n",
       "      <th>SibSp</th>\n",
       "      <th>Parch</th>\n",
       "      <th>Sex_female</th>\n",
       "      <th>Sex_male</th>\n",
       "      <th>Embarked_C</th>\n",
       "      <th>Embarked_Q</th>\n",
       "      <th>Embarked_S</th>\n",
       "      <th>Title_Master</th>\n",
       "      <th>Title_Miss</th>\n",
       "      <th>Title_Mr</th>\n",
       "      <th>Title_Mrs</th>\n",
       "      <th>Title_Other</th>\n",
       "    </tr>\n",
       "  </thead>\n",
       "  <tbody>\n",
       "    <tr>\n",
       "      <th>0</th>\n",
       "      <td>0.0</td>\n",
       "      <td>3</td>\n",
       "      <td>(16.0, 32.0]</td>\n",
       "      <td>1</td>\n",
       "      <td>0</td>\n",
       "      <td>0</td>\n",
       "      <td>1</td>\n",
       "      <td>0</td>\n",
       "      <td>0</td>\n",
       "      <td>1</td>\n",
       "      <td>0</td>\n",
       "      <td>0</td>\n",
       "      <td>1</td>\n",
       "      <td>0</td>\n",
       "      <td>0</td>\n",
       "    </tr>\n",
       "    <tr>\n",
       "      <th>1</th>\n",
       "      <td>1.0</td>\n",
       "      <td>1</td>\n",
       "      <td>(32.0, 48.0]</td>\n",
       "      <td>1</td>\n",
       "      <td>0</td>\n",
       "      <td>1</td>\n",
       "      <td>0</td>\n",
       "      <td>1</td>\n",
       "      <td>0</td>\n",
       "      <td>0</td>\n",
       "      <td>0</td>\n",
       "      <td>0</td>\n",
       "      <td>0</td>\n",
       "      <td>1</td>\n",
       "      <td>0</td>\n",
       "    </tr>\n",
       "    <tr>\n",
       "      <th>2</th>\n",
       "      <td>1.0</td>\n",
       "      <td>3</td>\n",
       "      <td>(16.0, 32.0]</td>\n",
       "      <td>0</td>\n",
       "      <td>0</td>\n",
       "      <td>1</td>\n",
       "      <td>0</td>\n",
       "      <td>0</td>\n",
       "      <td>0</td>\n",
       "      <td>1</td>\n",
       "      <td>0</td>\n",
       "      <td>1</td>\n",
       "      <td>0</td>\n",
       "      <td>0</td>\n",
       "      <td>0</td>\n",
       "    </tr>\n",
       "    <tr>\n",
       "      <th>3</th>\n",
       "      <td>1.0</td>\n",
       "      <td>1</td>\n",
       "      <td>(32.0, 48.0]</td>\n",
       "      <td>1</td>\n",
       "      <td>0</td>\n",
       "      <td>1</td>\n",
       "      <td>0</td>\n",
       "      <td>0</td>\n",
       "      <td>0</td>\n",
       "      <td>1</td>\n",
       "      <td>0</td>\n",
       "      <td>0</td>\n",
       "      <td>0</td>\n",
       "      <td>1</td>\n",
       "      <td>0</td>\n",
       "    </tr>\n",
       "    <tr>\n",
       "      <th>4</th>\n",
       "      <td>0.0</td>\n",
       "      <td>3</td>\n",
       "      <td>(32.0, 48.0]</td>\n",
       "      <td>0</td>\n",
       "      <td>0</td>\n",
       "      <td>0</td>\n",
       "      <td>1</td>\n",
       "      <td>0</td>\n",
       "      <td>0</td>\n",
       "      <td>1</td>\n",
       "      <td>0</td>\n",
       "      <td>0</td>\n",
       "      <td>1</td>\n",
       "      <td>0</td>\n",
       "      <td>0</td>\n",
       "    </tr>\n",
       "    <tr>\n",
       "      <th>...</th>\n",
       "      <td>...</td>\n",
       "      <td>...</td>\n",
       "      <td>...</td>\n",
       "      <td>...</td>\n",
       "      <td>...</td>\n",
       "      <td>...</td>\n",
       "      <td>...</td>\n",
       "      <td>...</td>\n",
       "      <td>...</td>\n",
       "      <td>...</td>\n",
       "      <td>...</td>\n",
       "      <td>...</td>\n",
       "      <td>...</td>\n",
       "      <td>...</td>\n",
       "      <td>...</td>\n",
       "    </tr>\n",
       "    <tr>\n",
       "      <th>1304</th>\n",
       "      <td>NaN</td>\n",
       "      <td>3</td>\n",
       "      <td>(16.0, 32.0]</td>\n",
       "      <td>0</td>\n",
       "      <td>0</td>\n",
       "      <td>0</td>\n",
       "      <td>1</td>\n",
       "      <td>0</td>\n",
       "      <td>0</td>\n",
       "      <td>1</td>\n",
       "      <td>0</td>\n",
       "      <td>0</td>\n",
       "      <td>1</td>\n",
       "      <td>0</td>\n",
       "      <td>0</td>\n",
       "    </tr>\n",
       "    <tr>\n",
       "      <th>1305</th>\n",
       "      <td>NaN</td>\n",
       "      <td>1</td>\n",
       "      <td>(32.0, 48.0]</td>\n",
       "      <td>0</td>\n",
       "      <td>0</td>\n",
       "      <td>1</td>\n",
       "      <td>0</td>\n",
       "      <td>1</td>\n",
       "      <td>0</td>\n",
       "      <td>0</td>\n",
       "      <td>0</td>\n",
       "      <td>0</td>\n",
       "      <td>0</td>\n",
       "      <td>0</td>\n",
       "      <td>1</td>\n",
       "    </tr>\n",
       "    <tr>\n",
       "      <th>1306</th>\n",
       "      <td>NaN</td>\n",
       "      <td>3</td>\n",
       "      <td>(32.0, 48.0]</td>\n",
       "      <td>0</td>\n",
       "      <td>0</td>\n",
       "      <td>0</td>\n",
       "      <td>1</td>\n",
       "      <td>0</td>\n",
       "      <td>0</td>\n",
       "      <td>1</td>\n",
       "      <td>0</td>\n",
       "      <td>0</td>\n",
       "      <td>1</td>\n",
       "      <td>0</td>\n",
       "      <td>0</td>\n",
       "    </tr>\n",
       "    <tr>\n",
       "      <th>1307</th>\n",
       "      <td>NaN</td>\n",
       "      <td>3</td>\n",
       "      <td>(32.0, 48.0]</td>\n",
       "      <td>0</td>\n",
       "      <td>0</td>\n",
       "      <td>0</td>\n",
       "      <td>1</td>\n",
       "      <td>0</td>\n",
       "      <td>0</td>\n",
       "      <td>1</td>\n",
       "      <td>0</td>\n",
       "      <td>0</td>\n",
       "      <td>1</td>\n",
       "      <td>0</td>\n",
       "      <td>0</td>\n",
       "    </tr>\n",
       "    <tr>\n",
       "      <th>1308</th>\n",
       "      <td>NaN</td>\n",
       "      <td>3</td>\n",
       "      <td>(-0.08, 16.0]</td>\n",
       "      <td>1</td>\n",
       "      <td>1</td>\n",
       "      <td>0</td>\n",
       "      <td>1</td>\n",
       "      <td>1</td>\n",
       "      <td>0</td>\n",
       "      <td>0</td>\n",
       "      <td>1</td>\n",
       "      <td>0</td>\n",
       "      <td>0</td>\n",
       "      <td>0</td>\n",
       "      <td>0</td>\n",
       "    </tr>\n",
       "  </tbody>\n",
       "</table>\n",
       "<p>1309 rows × 15 columns</p>\n",
       "</div>"
      ],
      "text/plain": [
       "      Survived  Pclass            Age  SibSp  Parch  Sex_female  Sex_male  \\\n",
       "0          0.0       3   (16.0, 32.0]      1      0           0         1   \n",
       "1          1.0       1   (32.0, 48.0]      1      0           1         0   \n",
       "2          1.0       3   (16.0, 32.0]      0      0           1         0   \n",
       "3          1.0       1   (32.0, 48.0]      1      0           1         0   \n",
       "4          0.0       3   (32.0, 48.0]      0      0           0         1   \n",
       "...        ...     ...            ...    ...    ...         ...       ...   \n",
       "1304       NaN       3   (16.0, 32.0]      0      0           0         1   \n",
       "1305       NaN       1   (32.0, 48.0]      0      0           1         0   \n",
       "1306       NaN       3   (32.0, 48.0]      0      0           0         1   \n",
       "1307       NaN       3   (32.0, 48.0]      0      0           0         1   \n",
       "1308       NaN       3  (-0.08, 16.0]      1      1           0         1   \n",
       "\n",
       "      Embarked_C  Embarked_Q  Embarked_S  Title_Master  Title_Miss  Title_Mr  \\\n",
       "0              0           0           1             0           0         1   \n",
       "1              1           0           0             0           0         0   \n",
       "2              0           0           1             0           1         0   \n",
       "3              0           0           1             0           0         0   \n",
       "4              0           0           1             0           0         1   \n",
       "...          ...         ...         ...           ...         ...       ...   \n",
       "1304           0           0           1             0           0         1   \n",
       "1305           1           0           0             0           0         0   \n",
       "1306           0           0           1             0           0         1   \n",
       "1307           0           0           1             0           0         1   \n",
       "1308           1           0           0             1           0         0   \n",
       "\n",
       "      Title_Mrs  Title_Other  \n",
       "0             0            0  \n",
       "1             1            0  \n",
       "2             0            0  \n",
       "3             1            0  \n",
       "4             0            0  \n",
       "...         ...          ...  \n",
       "1304          0            0  \n",
       "1305          0            1  \n",
       "1306          0            0  \n",
       "1307          0            0  \n",
       "1308          0            0  \n",
       "\n",
       "[1309 rows x 15 columns]"
      ]
     },
     "execution_count": 399,
     "metadata": {},
     "output_type": "execute_result"
    }
   ],
   "source": [
    "one_hot_encoded_data"
   ]
  },
  {
   "cell_type": "markdown",
   "metadata": {},
   "source": [
    "# Checking Survived (Response) variable"
   ]
  },
  {
   "cell_type": "code",
   "execution_count": 400,
   "metadata": {},
   "outputs": [
    {
     "name": "stdout",
     "output_type": "stream",
     "text": [
      "unique values:  [ 0.  1. nan]\n",
      "missing values :  418\n",
      "total percentage of missing data:  31.932773109243694\n"
     ]
    },
    {
     "data": {
      "text/plain": [
       "0.0    549\n",
       "1.0    342\n",
       "Name: Survived, dtype: int64"
      ]
     },
     "execution_count": 400,
     "metadata": {},
     "output_type": "execute_result"
    }
   ],
   "source": [
    "print(\"unique values: \" ,df['Survived'].unique())\n",
    "print(\"missing values : \", df['Survived'].isnull().sum())\n",
    "print (\"total percentage of missing data: \" , (418/1309)*100)\n",
    "df.Survived.value_counts()"
   ]
  },
  {
   "cell_type": "markdown",
   "metadata": {},
   "source": [
    "\n",
    "418 cases are missing in the survived variable. these rows should be taken  as seperate table to predict the survival as predicted table. the rest will be used as the training data set where the train set will be further divived as train and test for model fitting and validation."
   ]
  },
  {
   "cell_type": "code",
   "execution_count": 401,
   "metadata": {},
   "outputs": [],
   "source": [
    "df_to_predict=df[one_hot_encoded_data['Survived'].isnull()]"
   ]
  },
  {
   "cell_type": "code",
   "execution_count": 402,
   "metadata": {},
   "outputs": [
    {
     "data": {
      "text/plain": [
       "(418, 8)"
      ]
     },
     "execution_count": 402,
     "metadata": {},
     "output_type": "execute_result"
    }
   ],
   "source": [
    "df_to_predict.shape"
   ]
  },
  {
   "cell_type": "code",
   "execution_count": 403,
   "metadata": {},
   "outputs": [],
   "source": [
    "indexes = one_hot_encoded_data[one_hot_encoded_data['Survived'].isnull()].index\n",
    "df_to_train=one_hot_encoded_data.drop(indexes)"
   ]
  },
  {
   "cell_type": "code",
   "execution_count": 404,
   "metadata": {},
   "outputs": [
    {
     "data": {
      "text/html": [
       "<div>\n",
       "<style scoped>\n",
       "    .dataframe tbody tr th:only-of-type {\n",
       "        vertical-align: middle;\n",
       "    }\n",
       "\n",
       "    .dataframe tbody tr th {\n",
       "        vertical-align: top;\n",
       "    }\n",
       "\n",
       "    .dataframe thead th {\n",
       "        text-align: right;\n",
       "    }\n",
       "</style>\n",
       "<table border=\"1\" class=\"dataframe\">\n",
       "  <thead>\n",
       "    <tr style=\"text-align: right;\">\n",
       "      <th></th>\n",
       "      <th>Survived</th>\n",
       "      <th>Pclass</th>\n",
       "      <th>Age</th>\n",
       "      <th>SibSp</th>\n",
       "      <th>Parch</th>\n",
       "      <th>Sex_female</th>\n",
       "      <th>Sex_male</th>\n",
       "      <th>Embarked_C</th>\n",
       "      <th>Embarked_Q</th>\n",
       "      <th>Embarked_S</th>\n",
       "      <th>Title_Master</th>\n",
       "      <th>Title_Miss</th>\n",
       "      <th>Title_Mr</th>\n",
       "      <th>Title_Mrs</th>\n",
       "      <th>Title_Other</th>\n",
       "    </tr>\n",
       "  </thead>\n",
       "  <tbody>\n",
       "    <tr>\n",
       "      <th>0</th>\n",
       "      <td>0.0</td>\n",
       "      <td>3</td>\n",
       "      <td>(16.0, 32.0]</td>\n",
       "      <td>1</td>\n",
       "      <td>0</td>\n",
       "      <td>0</td>\n",
       "      <td>1</td>\n",
       "      <td>0</td>\n",
       "      <td>0</td>\n",
       "      <td>1</td>\n",
       "      <td>0</td>\n",
       "      <td>0</td>\n",
       "      <td>1</td>\n",
       "      <td>0</td>\n",
       "      <td>0</td>\n",
       "    </tr>\n",
       "    <tr>\n",
       "      <th>1</th>\n",
       "      <td>1.0</td>\n",
       "      <td>1</td>\n",
       "      <td>(32.0, 48.0]</td>\n",
       "      <td>1</td>\n",
       "      <td>0</td>\n",
       "      <td>1</td>\n",
       "      <td>0</td>\n",
       "      <td>1</td>\n",
       "      <td>0</td>\n",
       "      <td>0</td>\n",
       "      <td>0</td>\n",
       "      <td>0</td>\n",
       "      <td>0</td>\n",
       "      <td>1</td>\n",
       "      <td>0</td>\n",
       "    </tr>\n",
       "    <tr>\n",
       "      <th>2</th>\n",
       "      <td>1.0</td>\n",
       "      <td>3</td>\n",
       "      <td>(16.0, 32.0]</td>\n",
       "      <td>0</td>\n",
       "      <td>0</td>\n",
       "      <td>1</td>\n",
       "      <td>0</td>\n",
       "      <td>0</td>\n",
       "      <td>0</td>\n",
       "      <td>1</td>\n",
       "      <td>0</td>\n",
       "      <td>1</td>\n",
       "      <td>0</td>\n",
       "      <td>0</td>\n",
       "      <td>0</td>\n",
       "    </tr>\n",
       "    <tr>\n",
       "      <th>3</th>\n",
       "      <td>1.0</td>\n",
       "      <td>1</td>\n",
       "      <td>(32.0, 48.0]</td>\n",
       "      <td>1</td>\n",
       "      <td>0</td>\n",
       "      <td>1</td>\n",
       "      <td>0</td>\n",
       "      <td>0</td>\n",
       "      <td>0</td>\n",
       "      <td>1</td>\n",
       "      <td>0</td>\n",
       "      <td>0</td>\n",
       "      <td>0</td>\n",
       "      <td>1</td>\n",
       "      <td>0</td>\n",
       "    </tr>\n",
       "    <tr>\n",
       "      <th>4</th>\n",
       "      <td>0.0</td>\n",
       "      <td>3</td>\n",
       "      <td>(32.0, 48.0]</td>\n",
       "      <td>0</td>\n",
       "      <td>0</td>\n",
       "      <td>0</td>\n",
       "      <td>1</td>\n",
       "      <td>0</td>\n",
       "      <td>0</td>\n",
       "      <td>1</td>\n",
       "      <td>0</td>\n",
       "      <td>0</td>\n",
       "      <td>1</td>\n",
       "      <td>0</td>\n",
       "      <td>0</td>\n",
       "    </tr>\n",
       "    <tr>\n",
       "      <th>...</th>\n",
       "      <td>...</td>\n",
       "      <td>...</td>\n",
       "      <td>...</td>\n",
       "      <td>...</td>\n",
       "      <td>...</td>\n",
       "      <td>...</td>\n",
       "      <td>...</td>\n",
       "      <td>...</td>\n",
       "      <td>...</td>\n",
       "      <td>...</td>\n",
       "      <td>...</td>\n",
       "      <td>...</td>\n",
       "      <td>...</td>\n",
       "      <td>...</td>\n",
       "      <td>...</td>\n",
       "    </tr>\n",
       "    <tr>\n",
       "      <th>886</th>\n",
       "      <td>0.0</td>\n",
       "      <td>2</td>\n",
       "      <td>(16.0, 32.0]</td>\n",
       "      <td>0</td>\n",
       "      <td>0</td>\n",
       "      <td>0</td>\n",
       "      <td>1</td>\n",
       "      <td>0</td>\n",
       "      <td>0</td>\n",
       "      <td>1</td>\n",
       "      <td>0</td>\n",
       "      <td>0</td>\n",
       "      <td>0</td>\n",
       "      <td>0</td>\n",
       "      <td>1</td>\n",
       "    </tr>\n",
       "    <tr>\n",
       "      <th>887</th>\n",
       "      <td>1.0</td>\n",
       "      <td>1</td>\n",
       "      <td>(16.0, 32.0]</td>\n",
       "      <td>0</td>\n",
       "      <td>0</td>\n",
       "      <td>1</td>\n",
       "      <td>0</td>\n",
       "      <td>0</td>\n",
       "      <td>0</td>\n",
       "      <td>1</td>\n",
       "      <td>0</td>\n",
       "      <td>1</td>\n",
       "      <td>0</td>\n",
       "      <td>0</td>\n",
       "      <td>0</td>\n",
       "    </tr>\n",
       "    <tr>\n",
       "      <th>888</th>\n",
       "      <td>0.0</td>\n",
       "      <td>3</td>\n",
       "      <td>(-0.08, 16.0]</td>\n",
       "      <td>1</td>\n",
       "      <td>2</td>\n",
       "      <td>1</td>\n",
       "      <td>0</td>\n",
       "      <td>0</td>\n",
       "      <td>0</td>\n",
       "      <td>1</td>\n",
       "      <td>0</td>\n",
       "      <td>1</td>\n",
       "      <td>0</td>\n",
       "      <td>0</td>\n",
       "      <td>0</td>\n",
       "    </tr>\n",
       "    <tr>\n",
       "      <th>889</th>\n",
       "      <td>1.0</td>\n",
       "      <td>1</td>\n",
       "      <td>(16.0, 32.0]</td>\n",
       "      <td>0</td>\n",
       "      <td>0</td>\n",
       "      <td>0</td>\n",
       "      <td>1</td>\n",
       "      <td>1</td>\n",
       "      <td>0</td>\n",
       "      <td>0</td>\n",
       "      <td>0</td>\n",
       "      <td>0</td>\n",
       "      <td>1</td>\n",
       "      <td>0</td>\n",
       "      <td>0</td>\n",
       "    </tr>\n",
       "    <tr>\n",
       "      <th>890</th>\n",
       "      <td>0.0</td>\n",
       "      <td>3</td>\n",
       "      <td>(16.0, 32.0]</td>\n",
       "      <td>0</td>\n",
       "      <td>0</td>\n",
       "      <td>0</td>\n",
       "      <td>1</td>\n",
       "      <td>0</td>\n",
       "      <td>1</td>\n",
       "      <td>0</td>\n",
       "      <td>0</td>\n",
       "      <td>0</td>\n",
       "      <td>1</td>\n",
       "      <td>0</td>\n",
       "      <td>0</td>\n",
       "    </tr>\n",
       "  </tbody>\n",
       "</table>\n",
       "<p>891 rows × 15 columns</p>\n",
       "</div>"
      ],
      "text/plain": [
       "     Survived  Pclass            Age  SibSp  Parch  Sex_female  Sex_male  \\\n",
       "0         0.0       3   (16.0, 32.0]      1      0           0         1   \n",
       "1         1.0       1   (32.0, 48.0]      1      0           1         0   \n",
       "2         1.0       3   (16.0, 32.0]      0      0           1         0   \n",
       "3         1.0       1   (32.0, 48.0]      1      0           1         0   \n",
       "4         0.0       3   (32.0, 48.0]      0      0           0         1   \n",
       "..        ...     ...            ...    ...    ...         ...       ...   \n",
       "886       0.0       2   (16.0, 32.0]      0      0           0         1   \n",
       "887       1.0       1   (16.0, 32.0]      0      0           1         0   \n",
       "888       0.0       3  (-0.08, 16.0]      1      2           1         0   \n",
       "889       1.0       1   (16.0, 32.0]      0      0           0         1   \n",
       "890       0.0       3   (16.0, 32.0]      0      0           0         1   \n",
       "\n",
       "     Embarked_C  Embarked_Q  Embarked_S  Title_Master  Title_Miss  Title_Mr  \\\n",
       "0             0           0           1             0           0         1   \n",
       "1             1           0           0             0           0         0   \n",
       "2             0           0           1             0           1         0   \n",
       "3             0           0           1             0           0         0   \n",
       "4             0           0           1             0           0         1   \n",
       "..          ...         ...         ...           ...         ...       ...   \n",
       "886           0           0           1             0           0         0   \n",
       "887           0           0           1             0           1         0   \n",
       "888           0           0           1             0           1         0   \n",
       "889           1           0           0             0           0         1   \n",
       "890           0           1           0             0           0         1   \n",
       "\n",
       "     Title_Mrs  Title_Other  \n",
       "0            0            0  \n",
       "1            1            0  \n",
       "2            0            0  \n",
       "3            1            0  \n",
       "4            0            0  \n",
       "..         ...          ...  \n",
       "886          0            1  \n",
       "887          0            0  \n",
       "888          0            0  \n",
       "889          0            0  \n",
       "890          0            0  \n",
       "\n",
       "[891 rows x 15 columns]"
      ]
     },
     "execution_count": 404,
     "metadata": {},
     "output_type": "execute_result"
    }
   ],
   "source": [
    "df_to_train"
   ]
  },
  {
   "cell_type": "markdown",
   "metadata": {},
   "source": [
    "Note : df to train should be further divided in to training and testing test before building a ML model"
   ]
  }
 ],
 "metadata": {
  "kernelspec": {
   "display_name": "Python 3",
   "language": "python",
   "name": "python3"
  },
  "language_info": {
   "codemirror_mode": {
    "name": "ipython",
    "version": 3
   },
   "file_extension": ".py",
   "mimetype": "text/x-python",
   "name": "python",
   "nbconvert_exporter": "python",
   "pygments_lexer": "ipython3",
   "version": "3.8.5"
  }
 },
 "nbformat": 4,
 "nbformat_minor": 4
}
